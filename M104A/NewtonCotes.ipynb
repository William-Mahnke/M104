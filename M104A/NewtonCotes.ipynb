{
 "cells": [
  {
   "cell_type": "markdown",
   "metadata": {},
   "source": [
    "# Newton-Cotes\n",
    "The goal of this program is to compute a 3rd order Newton-Cotes for $\\int_{0}^{1} f(x)dx$, i.e. Newton-Cotes for 4 equally spaced nodes. \n",
    "\n",
    "## General Newton-Cotes\n",
    "Given a < b, let $x_i$ = a + di (i = 0, 1, ..., n) where $d = \\frac{b-a}{n}$ so $x_0, x_1, \\ldots, x_n$ are equally spaced nodes on [a,b]. Then, the Newton-Cotes formula of order n (aka degree n) for $\\int_{a}^{b} f(x)dx$ is given by\n",
    "$\\int_{a}^{b} f(x)dx \\approx \\sum_{i=0}^{n}A_if(x_i)$ where $A_i = \\int_{a}^{b} l_i(x)dx$ and $l_i(x) = \\prod_{i=0,j\\neq i}^{n} \\frac{x-x_j}{x_i-x_j}$\n",
    "\n",
    "### Applying to our problem\n",
    "The problem tells us that n=3, a=0, and b=1. So \n",
    "$\\int_{0}^{1} f(x)dx \\approx \\sum_{i=0}^{3} A_if(x_i)$ where $A_i = \\int_{0}^{1} l_i(x)dx$, $l_i(x) = \\prod_{i=0,j\\neq i}^{3} \\frac{x-x_j}{x_i-x_j}$, and $\\{x_i\\}_{0 \\leq i \\leq 3}$ = 0, $\\frac{1}{3}$, $\\frac{2}{3}$, 1 "
   ]
  },
  {
   "cell_type": "code",
   "execution_count": 3,
   "metadata": {},
   "outputs": [
    {
     "name": "stdout",
     "output_type": "stream",
     "text": [
      "0.5\n"
     ]
    }
   ],
   "source": [
    "import numpy as np\n",
    "from scipy.integrate import quad \n",
    "\n",
    "def newtonCotes(f):\n",
    "    '''\n",
    "    Input data: \n",
    "    * the function (f) we're approximating the integral for\n",
    "    * assuming the interval for the integral is [0,1] and we have 4 equally spaced nodes\n",
    "    '''\n",
    "    nodes = [0,1/3,2/3,1]\n",
    "    A = []\n",
    "    for i in range(4):\n",
    "        l = lambda x: np.prod([(x-nodes[j])/(nodes[i]-nodes[j]) for j in range(4) if j != i])\n",
    "        integral = quad(l,0,1)\n",
    "        A.append(integral[0])\n",
    "\n",
    "    total = sum(A[i]* f(nodes[i]) for i in range(4))\n",
    "    return total\n",
    "\n",
    "print(newtonCotes(f = lambda x: x))\n"
   ]
  },
  {
   "cell_type": "markdown",
   "metadata": {},
   "source": [
    "### Generalizing the code\n",
    "Instead of fixing the number of nodes (n) to three and setting the interval to [0,1], we're now going to consider any interval [a,b] (where a<b) and any number of nodes."
   ]
  },
  {
   "cell_type": "code",
   "execution_count": 5,
   "metadata": {},
   "outputs": [
    {
     "name": "stdout",
     "output_type": "stream",
     "text": [
      "0.5\n"
     ]
    }
   ],
   "source": [
    "import numpy as np\n",
    "from scipy.integrate import quad \n",
    "\n",
    "def genNewtonCotes(f, a, b, n):\n",
    "    '''\n",
    "    Input data:\n",
    "    * the function (f)\n",
    "    * the left and right endpoints of the interval (a and b respectively)\n",
    "    Here we're assuming that a < b\n",
    "    * the number of nodes (n)\n",
    "    Here we're assuming that n is an integer\n",
    "    '''\n",
    "    d = (b-a)/n\n",
    "    A = []\n",
    "    nodes = [(a + d*k) for k in range(n+1)]\n",
    "    for i in range(n):\n",
    "        l = lambda x: np.prod([(x-nodes[j])/(nodes[i]-nodes[j]) for j in range(n) if j!= i])\n",
    "        integral = quad(l,a,b)\n",
    "        A.append(integral[0])\n",
    "    total = sum(A[i]*f(nodes[i]) for i in range(n))\n",
    "    return total\n",
    "\n",
    "print(genNewtonCotes(f = lambda x:x, a = 0, b= 1, n =3))\n",
    "        "
   ]
  },
  {
   "cell_type": "markdown",
   "metadata": {},
   "source": [
    "# Gausian Quadrature\n",
    "\n",
    "The goal for the next algorithm is to compute a Gaussian quadrature on the interval [0,1] using two nodes (i.e. n=1).\n",
    "\n",
    "## General Gaussian Quadrature\n",
    "\n",
    "Given a < b, let w be some positive weight function (i.e. w:[a,b] $\\rightarrow$ (0, $\\infty$)). Then for any distinct $x_0, x_1, \\dots x_n \\in [a,b]$, we have that $\\int_{a}^{b} f(x)w(x)dx \\approx \\sum_{i=0}^n \\tilde{A}_if(x_i)$, where $\\tilde{A}_i = \\int_{a}^{b} l_i(x)w(x)dx$ and $l_i(x) = \\prod_{j \\neq i} \\frac{x-x_j}{x_i-x_j}$.\n",
    "\n",
    "### Applying to our problem\n",
    "\n",
    "The problem tells us that we only have two nodes and the interval is [0,1]. So $\\int_{0}^{1} f(x)w(x)dx \\approx \\sum_{i=0}^1 \\tilde{A}_if(x_i)$ where $\\tilde{A}_i = \\int_{0}^{1} l_i(x)w(x)dx$."
   ]
  },
  {
   "cell_type": "code",
   "execution_count": 13,
   "metadata": {},
   "outputs": [
    {
     "name": "stdout",
     "output_type": "stream",
     "text": [
      "0.7499999999999999\n"
     ]
    }
   ],
   "source": [
    "import numpy as np\n",
    "from scipy.integrate import quad\n",
    "\n",
    "def gaussian(f, w):\n",
    "    '''\n",
    "    Inputs:\n",
    "    * the function (f)\n",
    "    * the weight function (w)\n",
    "    Output:\n",
    "    * integral approximation\n",
    "    '''\n",
    "    nodes = [0,1]\n",
    "    A_tilda = []\n",
    "    for i in range(2):\n",
    "        l = lambda x: np.prod([(x-nodes[j])/(nodes[i]-nodes[j]) for j in range(2) if j != i]) * w(x)\n",
    "        integral = quad(l,0,1)\n",
    "        A_tilda.append(integral[0])\n",
    "    total = A_tilda[0]*f(nodes[0]) + A_tilda[1]*f(nodes[1])\n",
    "    return total\n",
    "\n",
    "print(gaussian(f = lambda x: x,w = lambda x: x**2 + 1))\n",
    "    "
   ]
  },
  {
   "cell_type": "markdown",
   "metadata": {},
   "source": [
    "### Generalizing the code\n",
    "\n",
    "Instead of fixing the number of nodes (n) and choosing the interval to be [0,1], we're going to generalize the code for any interval [a,b] (assuming a <b) and any number of nodes (note that the nodes do not have to be evenly spaced like Newton-Cotes)"
   ]
  },
  {
   "cell_type": "code",
   "execution_count": 15,
   "metadata": {},
   "outputs": [
    {
     "name": "stdout",
     "output_type": "stream",
     "text": [
      "0.75\n"
     ]
    }
   ],
   "source": [
    "import numpy as np\n",
    "from scipy.integrate import quad\n",
    "\n",
    "def genGaussian(f, w, nodes, a, b):\n",
    "    '''\n",
    "    Inputs:\n",
    "    * the function (f) and the positive weight function (w)\n",
    "    * the nodes \n",
    "    * the interval for the integral (a, b) assuming that a < b\n",
    "    Output:\n",
    "    * integral approximation for f(x)*w(x)\n",
    "    '''\n",
    "    A = []\n",
    "    for i in range(len(nodes)):\n",
    "        l = lambda x: np.prod([(x-nodes[j])/(nodes[i]-nodes[j]) for j in range(len(nodes)) if j != i]) * w(x)\n",
    "        integral = quad(l,a,b)\n",
    "        A.append(integral[0])\n",
    "    total = sum(A[i]*f(nodes[i]) for i in range(len(nodes)))\n",
    "    return total\n",
    "\n",
    "print(genGaussian(f = lambda x:x, w = lambda x: x**2 + 1, nodes = [0,1/3,2/3,1], a = 0, b = 1))\n"
   ]
  },
  {
   "cell_type": "markdown",
   "metadata": {},
   "source": [
    "## Gaussian-Legendre2 Quadrature\n",
    "\n",
    "When using the Gaussian quadrature formula, when w(x) $\\equiv$ 1, this is called a Gaussian-Legendre quadrature (aka **the** Gaussian quadrature). For the Gaussian-Legendre2 Quadrature, our nodes are $\\frac{-1}{\\sqrt{3}}, \\frac{1}{\\sqrt{3}}$ for our interval [-1,1]."
   ]
  },
  {
   "cell_type": "code",
   "execution_count": null,
   "metadata": {},
   "outputs": [],
   "source": [
    "import numpy as np\n",
    "\n",
    "def legendre2(f, a: float, b: float):\n",
    "    '''                  \n",
    "    Inputs:\n",
    "    * function (f)\n",
    "    * end points of the interval (a, b)\n",
    "    Output:\n",
    "    * Gaussian-Legendre2 quadrature for the integral approximation\n",
    "    '''\n",
    "    tmp = 1/np.sqrt(3)\n",
    "    nodes = np.array([-tmp, tmp])\n",
    "    weights = np.array([-tmp,tmp])\n",
    "    left_pt = a\n",
    "    x = left_pt + (b-a)*nodes # broadcasting in effect\n",
    "    height = f(x)\n",
    "    [height_left,heigh_right] = height\n",
    "    return weights[0]*height_left + weights[1]*heigh_right\n"
   ]
  }
 ],
 "metadata": {
  "kernelspec": {
   "display_name": "base",
   "language": "python",
   "name": "python3"
  },
  "language_info": {
   "codemirror_mode": {
    "name": "ipython",
    "version": 3
   },
   "file_extension": ".py",
   "mimetype": "text/x-python",
   "name": "python",
   "nbconvert_exporter": "python",
   "pygments_lexer": "ipython3",
   "version": "3.11.5"
  }
 },
 "nbformat": 4,
 "nbformat_minor": 2
}
