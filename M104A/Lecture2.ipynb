{
 "cells": [
  {
   "cell_type": "markdown",
   "metadata": {},
   "source": [
    "## Lecture 2"
   ]
  },
  {
   "cell_type": "code",
   "execution_count": null,
   "metadata": {},
   "outputs": [],
   "source": [
    "import numpy as np\n",
    "import matplotlib.pyplot as plt\n",
    "\n",
    "#List slicing is start(inclusive): end(exclusive): step, default is 0:length of list:1\n",
    "lst = [i for i in range(10)]\n",
    "print(\"steps by two\")\n",
    "print(lst[::2])\n",
    "print(\"negative step\")\n",
    "print(lst[::-1])\n",
    "print(\"original\")\n",
    "print(lst)\n",
    "\n",
    "#If you want to loop over the values in a dictionary, you have to specify dct.values()\n",
    "#For one-element tuples, have to put a trailing comma. Otherwise, Python thinks it's a simple grouping"
   ]
  }
 ],
 "metadata": {
  "kernelspec": {
   "display_name": "base",
   "language": "python",
   "name": "python3"
  },
  "language_info": {
   "codemirror_mode": {
    "name": "ipython",
    "version": 3
   },
   "file_extension": ".py",
   "mimetype": "text/x-python",
   "name": "python",
   "nbconvert_exporter": "python",
   "pygments_lexer": "ipython3",
   "version": "3.11.5"
  },
  "orig_nbformat": 4
 },
 "nbformat": 4,
 "nbformat_minor": 2
}
