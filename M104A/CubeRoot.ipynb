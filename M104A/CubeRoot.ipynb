{
 "cells": [
  {
   "cell_type": "markdown",
   "metadata": {},
   "source": [
    "To find the root for a real value a $\\in \\mathbb{R}$, we will use Newton's method to find a root for $f(x) = x^3 - a$. Let $\\xi$ be a root for f, i.e. $f(\\xi) = \\xi^3 - a = 0 \\implies \\xi = \\sqrt[3]{a}$. Therefore, using Newton's method on $f$ yields the cube root for a."
   ]
  },
  {
   "cell_type": "code",
   "execution_count": 1,
   "metadata": {},
   "outputs": [
    {
     "name": "stdout",
     "output_type": "stream",
     "text": [
      "Max number of iterations reached, approximation may not be close to actual root\n",
      "Newton's method :  (319.99999999999955-1.0069079136948063e-12j)    (<built-in function iter> iterations taken)\n",
      "True solution   :  2.080083823051904\n",
      "Error           :  (317.91991617694765-1.0069079136948063e-12j)\n"
     ]
    }
   ],
   "source": [
    "import numpy as np \n",
    "\n",
    "def newton(f, fp, ini, diff = 1e-8, max_int = 20):\n",
    "    '''\n",
    "    Returns the approximate root for a function\n",
    "    \n",
    "    Initial data:\n",
    "    a function (f)\n",
    "    the function's first derivative (fp)\n",
    "    an intital guess (ini)\n",
    "    difference tolerance (diff): if the distance between two consecutive guesses is less than diff, the program stops\n",
    "    max number of iterations for the method (max_int)\n",
    "\n",
    "    Output:\n",
    "    The approximate root and the number of iterations\n",
    "    If the maximum number of iterations is reached, the output will include a warning that the output may not be a good approximation\n",
    "    '''\n",
    "    x = ini\n",
    "    for i in range(max_int): #for loop to perform all iterations unless diff is reached\n",
    "        x_pre = x\n",
    "        x = x - f(x)/fp(x) #calculation for x_{n+1} using the Newton method\n",
    "        if np.abs(x - x_pre) < diff:\n",
    "            break\n",
    "    if i == max_int - 1:\n",
    "        print(\"Max number of iterations reached, approximation may not be close to actual root\")\n",
    "    return x, i + 1\n",
    "\n",
    "#Number you want to find cube root of \n",
    "a = 9\n",
    "\n",
    "#Find the cube root\n",
    "f = lambda x: x**3 - a\n",
    "fp = lambda x: 3*(x**2)\n",
    "ini = 5\n",
    "\n",
    "apr, itr = newton(f, fp, ini, max_int = 6)\n",
    "sol = np.cbrt(float(a))\n",
    "\n",
    "print(\"Newton's method : \", apr, f\"   ({iter} iterations taken)\")\n",
    "print(\"True solution   : \", sol)\n",
    "print(\"Error           : \", apr - sol)"
   ]
  }
 ],
 "metadata": {
  "kernelspec": {
   "display_name": "base",
   "language": "python",
   "name": "python3"
  },
  "language_info": {
   "codemirror_mode": {
    "name": "ipython",
    "version": 3
   },
   "file_extension": ".py",
   "mimetype": "text/x-python",
   "name": "python",
   "nbconvert_exporter": "python",
   "pygments_lexer": "ipython3",
   "version": "3.11.5"
  }
 },
 "nbformat": 4,
 "nbformat_minor": 2
}
