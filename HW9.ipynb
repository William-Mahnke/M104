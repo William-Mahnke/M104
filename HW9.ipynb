{
 "cells": [
  {
   "cell_type": "markdown",
   "metadata": {},
   "source": [
    "### \\#6\n",
    "\n",
    "Modify the codes found in the notes for the following Laplace equation using (m−2)(n−\n",
    "2)-by-(m − 2)(n − 2) matrix problem by directly feeding the boundary condition to the solution: $\\\\$\n",
    "$\\begin{cases} \\Delta u = 0 \\\\ u(x,0) = \\text{sin}(\\pi x) \\\\\n",
    "u(x,1) = \\text{sin}(\\pi x) \\\\ u(0,y) = 0 \\\\ u(1,y) = 0 \\end{cases}$"
   ]
  },
  {
   "cell_type": "markdown",
   "metadata": {},
   "source": [
    "### Converting the indexing"
   ]
  },
  {
   "cell_type": "code",
   "execution_count": 1,
   "metadata": {},
   "outputs": [],
   "source": [
    "import numpy as np\n",
    "from internallib import tridiag\n",
    "import matplotlib.pyplot as plt\n",
    "plt.rcParams['font.size'] = 16\n",
    "\n",
    "def convert_ind(ind, shape):\n",
    "    \"\"\"\n",
    "    Convert a 1D index to a 2D index, or vice versa.\n",
    "\n",
    "    Input:\n",
    "        ind: (int or tuple) Index to be converted. \n",
    "            2D index (i, j) is given, i corresponds to x location,\n",
    "            and j corresponds to y location. \n",
    "        shape: (tuple) Shape of the 2D array.\n",
    "    Note:\n",
    "\n",
    "    CAUTION: \n",
    "        2nd dim, m, is the length of grid in x direction (horizontal)\n",
    "        but, the 1st component of ind (e.g., i of (i, j)) gives the \n",
    "        the location of x. This is why the order of ind is opposite \n",
    "        depending on \"1D to 2D\" or \"2D to 1D\".\n",
    "        Phylosophy: (i, j) means really mathematical grid index so that\n",
    "            it corresponds to (x, y) coordinate while 1D index is \n",
    "            converted into array index, hence \n",
    "            (row, col) <--> (y, x) numpy array.\n",
    "    \"\"\"\n",
    "    # Assume shape is (n, m) or n-by-m\n",
    "    m = shape[1]\n",
    "\n",
    "    if isinstance(ind, int) or len(ind) == 1:\n",
    "        return (ind//m, ind%m)\n",
    "    elif len(ind) == 2:\n",
    "        return ind[1]*m + ind[0]\n",
    "    else:\n",
    "        raise ValueError(\"The input type is not supported.\")"
   ]
  },
  {
   "cell_type": "markdown",
   "metadata": {},
   "source": [
    "#### Test for index conversion"
   ]
  },
  {
   "cell_type": "code",
   "execution_count": null,
   "metadata": {},
   "outputs": [],
   "source": [
    "n = 5\n",
    "m = 7\n",
    "shape = (n, m)\n",
    "\n",
    "# test 1D to 2D\n",
    "#   here second component of ind is the x location\n",
    "#   so that the output can be used as ndarray index.\n",
    "for i in range(n*m):\n",
    "    print(i, convert_ind(i, shape))"
   ]
  },
  {
   "cell_type": "markdown",
   "metadata": {},
   "source": [
    "#### Showing relation between original indices and coverted indices"
   ]
  },
  {
   "cell_type": "code",
   "execution_count": null,
   "metadata": {},
   "outputs": [],
   "source": [
    "# CAUTION: i ranges from 0 to m-1, and j ranges from 0 to n-1\n",
    "#       (i, j) for n-by-m\n",
    "#   Here, the first component of ind is the x location\n",
    "#   so that it matches the mathematical grid domain.\n",
    "#   Index engineering is done behind the scene.\n",
    "\n",
    "for j in range(n):\n",
    "    for i in range(m):\n",
    "        print((i, j), convert_ind((i, j), shape))"
   ]
  },
  {
   "cell_type": "markdown",
   "metadata": {},
   "source": [
    "### Vector and Matrix Creation"
   ]
  },
  {
   "cell_type": "code",
   "execution_count": 4,
   "metadata": {},
   "outputs": [],
   "source": [
    "def eval_2Dfun(f, x, y):\n",
    "    \"\"\"\n",
    "    Return 2D array of evaluation f(x, y)\n",
    "\n",
    "    Input:\n",
    "        f: (function) Function to be evaluated.\n",
    "        x: (1D array) x coordinate.\n",
    "        y: (1D array) y coordinate.\n",
    "    Output:\n",
    "        f_vec: (2D array) Evaluation of f(x, y). Watch the flip of shape and index.\n",
    "            Shape is (len(y), len(x)).\n",
    "            f_vec[i, j] = f(x[j], y[i])\n",
    "    \"\"\"\n",
    "    return f(x, y.reshape(-1, 1))"
   ]
  },
  {
   "cell_type": "code",
   "execution_count": null,
   "metadata": {},
   "outputs": [],
   "source": [
    "n = 4\n",
    "m = 7\n",
    "\n",
    "fn = lambda x, y: x + y\n",
    "\n",
    "x = np.arange(m)\n",
    "y = np.arange(n)*10\n",
    "f_grid = eval_2Dfun(fn, x, y)\n",
    "print(f_grid)"
   ]
  },
  {
   "cell_type": "markdown",
   "metadata": {},
   "source": [
    "#### Converting Array to Vector "
   ]
  },
  {
   "cell_type": "code",
   "execution_count": 6,
   "metadata": {},
   "outputs": [],
   "source": [
    "def to_vec(arr, shape=None):\n",
    "    \"\"\"\n",
    "    Convert 2D array to 1D array in the context of \n",
    "    solving 2D elliptic problem using finite different method.\n",
    "\n",
    "    Input:\n",
    "        arr: (2D array) grid function.\n",
    "        shape: (tuple) shape of the grid domain. Currently, not used.\n",
    "    Output:\n",
    "        vec: (1D array) 1D array of arr.\n",
    "    \"\"\"\n",
    "    return arr.flatten()"
   ]
  },
  {
   "cell_type": "markdown",
   "metadata": {},
   "source": [
    "#### Testing Conversion and Comparing Indexing Conventions"
   ]
  },
  {
   "cell_type": "code",
   "execution_count": null,
   "metadata": {},
   "outputs": [],
   "source": [
    "# test `to_vec`\n",
    "f_vec = to_vec(f_grid, (n, m))\n",
    "print(f_vec)\n",
    "\n",
    "# grid_fn[convert_ind(1D_index, shape)] = to_vec(grid_fn, shape)[1D_index]\n",
    "print(\"\\n\", f\"{'f_grid[2D index]' : ^20}{'f_vec[1D index]' : ^20}\")\n",
    "for i in range(n*m):\n",
    "    print(f\"{f_grid[convert_ind(i, shape)] : ^20}{to_vec(f_grid, shape)[i] : ^20}\")"
   ]
  },
  {
   "cell_type": "markdown",
   "metadata": {},
   "source": [
    "### Putting it Together "
   ]
  },
  {
   "cell_type": "code",
   "execution_count": 8,
   "metadata": {},
   "outputs": [],
   "source": [
    "def solve_pois_eq(f, bc_b, bc_r, bc_t, bc_l, xl, xr, yb, yt, n, m):\n",
    "    \"\"\"\n",
    "    Return numerical solution of Poisson equation on a rectangular domain \n",
    "    using finite difference method.\n",
    "    \n",
    "    Input:\n",
    "        f: (function) right hand side function.\n",
    "        bc_b: (function) Boundary condition at bottom.\n",
    "        bc_r: (function) Boundary condition at right.\n",
    "        bc_t: (function) Boundary condition at top.\n",
    "        bc_l: (function) Boundary condition at left.\n",
    "        xl: (float) Left boundary of the domain.\n",
    "        xr: (float) Right boundary of the domain.\n",
    "        yb: (float) Bottom boundary of the domain.\n",
    "        yt: (float) Top boundary of the domain.\n",
    "        m: (int) Number of spatial grid in x direction.\n",
    "        n: (int) Number of spatial grid in y direction.\n",
    "    Output:\n",
    "        w: (2D array) Numerical solution.\n",
    "    \"\"\"\n",
    "    # Create discrete domain\n",
    "    x = np.linspace(xl, xr, m)\n",
    "    y = np.linspace(yb, yt, n)\n",
    "\n",
    "    h = x[1] - x[0]\n",
    "    k = y[1] - y[0]\n",
    "\n",
    "    shape = (n, m)\n",
    "\n",
    "    # Construct loading vector\n",
    "    f_vec = eval_2Dfun(f, x, y)\n",
    "    b = to_vec(f_vec) # convert 2D array to 1D array\n",
    "\n",
    "    # Construct coefficient matrix\n",
    "    A = np.zeros((n*m, n*m))\n",
    "    for i in range(1, m-1):\n",
    "        for j in range(1, n-1):\n",
    "            p = convert_ind((i, j), shape)\n",
    "            A[p, p] = -2./(h*h) - 2./(k*k)\n",
    "            A[p, convert_ind((i+1, j), shape)] = 1./(h*h)\n",
    "            A[p, convert_ind((i-1, j), shape)] = 1./(h*h)\n",
    "            A[p, convert_ind((i, j+1), shape)] = 1./(k*k)\n",
    "            A[p, convert_ind((i, j-1), shape)] = 1./(k*k)\n",
    "\n",
    "    # Initialize solution vector\n",
    "    w = np.zeros(n*m)\n",
    "\n",
    "    # Apply boundary condition\n",
    "    for j in [0, n-1]:\n",
    "        for i in range(m):\n",
    "            p = convert_ind((i, j), shape)\n",
    "            A[p, p] = 1.\n",
    "            b[p] = bc_b(x[i]) if j == 0 else bc_t(x[i])\n",
    "    \n",
    "    for i in [0, m-1]:\n",
    "        for j in range(n):\n",
    "            p = convert_ind((i, j), shape)\n",
    "            A[p, p] = 1.\n",
    "            b[p] = bc_l(y[j]) if i == 0 else bc_r(y[j])\n",
    "    \n",
    "    # Solve the linear system\n",
    "    w = np.linalg.solve(A, b)\n",
    "    w = w.reshape(n, m)\n",
    "\n",
    "    return w, x, y"
   ]
  },
  {
   "cell_type": "markdown",
   "metadata": {},
   "source": [
    "### Setting values for the problem"
   ]
  },
  {
   "cell_type": "code",
   "execution_count": 9,
   "metadata": {},
   "outputs": [],
   "source": [
    "xl = 0.\n",
    "xr = 1.\n",
    "yb = 0.\n",
    "yt = 1.\n",
    "\n",
    "n = 11\n",
    "m = 11\n",
    "\n",
    "# Note: f = lambda x, y: 0. returns 0., which is float. \n",
    "#   This lacks methods of numpy arrar.\n",
    "f = lambda x, y: 0.*x + 0.*y\n",
    "\n",
    "bc_b = lambda x: np.sin(np.pi*x)\n",
    "bc_r = lambda y: 0.\n",
    "bc_t = lambda x: np.sin(np.pi*x)\n",
    "bc_l = lambda y: 0.\n",
    "\n",
    "\n",
    "w, x, y = solve_pois_eq(f, bc_b, bc_r, bc_t, bc_l, xl, xr, yb, yt, n, m)"
   ]
  },
  {
   "cell_type": "markdown",
   "metadata": {},
   "source": [
    "### Plotting"
   ]
  },
  {
   "cell_type": "code",
   "execution_count": null,
   "metadata": {},
   "outputs": [],
   "source": [
    "#%% plot\n",
    "fig, ax = plt.subplots(1,1, figsize=(6.5, 6.5), subplot_kw={'projection':'3d'})\n",
    "\n",
    "# surface plot (toggle)\n",
    "# Note: need to reshape 1st coordinate to a column vector\n",
    "ax.plot_surface(x, y.reshape(-1,1), w, cmap='viridis', alpha=0.8)\n",
    "ax.set_title('Numerical solution\\nLaplace equation')\n",
    "\n",
    "# Change the angle of projection\n",
    "ax.set_xlabel('$x$')\n",
    "ax.set_ylabel('$y$')\n",
    "ax.view_init(elev=20, azim=60)\n",
    "\n",
    "plt.show()"
   ]
  }
 ],
 "metadata": {
  "kernelspec": {
   "display_name": "base",
   "language": "python",
   "name": "python3"
  },
  "language_info": {
   "codemirror_mode": {
    "name": "ipython",
    "version": 3
   },
   "file_extension": ".py",
   "mimetype": "text/x-python",
   "name": "python",
   "nbconvert_exporter": "python",
   "pygments_lexer": "ipython3",
   "version": "3.11.5"
  }
 },
 "nbformat": 4,
 "nbformat_minor": 2
}
