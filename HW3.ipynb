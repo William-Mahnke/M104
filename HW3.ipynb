{
 "cells": [
  {
   "cell_type": "code",
   "execution_count": 2,
   "metadata": {},
   "outputs": [],
   "source": [
    "import numpy as np"
   ]
  },
  {
   "cell_type": "markdown",
   "metadata": {},
   "source": [
    "### \\#2\n",
    "You want to solve the following system. Implement the Jacobi Method to solve the\n",
    "sparse system within six correct decimal places (forward error in the infinity norm) for n = 100. The\n",
    "correct answer is [1, 1, · · · , 1]. Report the number of steps needed and backward error. Do the same\n",
    "with n = 100, 000. How did you deal with this large matrix?"
   ]
  },
  {
   "cell_type": "code",
   "execution_count": 3,
   "metadata": {},
   "outputs": [
    {
     "name": "stdout",
     "output_type": "stream",
     "text": [
      "35\n",
      "[0.99999991 0.99999982 0.99999974 0.99999966 0.99999959 0.99999953\n",
      " 0.99999948 0.99999943 0.9999994  0.99999937 0.99999936 0.99999934\n",
      " 0.99999933 0.99999932 0.99999932 0.99999932 0.99999932 0.99999931\n",
      " 0.99999931 0.99999931 0.99999931 0.99999931 0.99999931 0.99999931\n",
      " 0.99999931 0.99999931 0.99999931 0.99999931 0.99999931 0.99999931\n",
      " 0.99999931 0.99999931 0.99999931 0.99999931 0.99999931 0.99999931\n",
      " 0.99999931 0.99999931 0.99999931 0.99999931 0.99999931 0.99999931\n",
      " 0.99999931 0.99999931 0.99999931 0.99999931 0.99999931 0.99999931\n",
      " 0.99999931 0.99999931 0.99999931 0.99999931 0.99999931 0.99999931\n",
      " 0.99999931 0.99999931 0.99999931 0.99999931 0.99999931 0.99999931\n",
      " 0.99999931 0.99999931 0.99999931 0.99999931 0.99999931 0.99999931\n",
      " 0.99999931 0.99999931 0.99999931 0.99999931 0.99999931 0.99999931\n",
      " 0.99999931 0.99999931 0.99999931 0.99999931 0.99999931 0.99999931\n",
      " 0.99999931 0.99999931 0.99999931 0.99999931 0.99999931 0.99999932\n",
      " 0.99999932 0.99999932 0.99999932 0.99999933 0.99999934 0.99999936\n",
      " 0.99999937 0.9999994  0.99999943 0.99999948 0.99999953 0.99999959\n",
      " 0.99999966 0.99999974 0.99999982 0.99999991]\n"
     ]
    }
   ],
   "source": [
    "# n = 100\n",
    "d = 1/3\n",
    "L = np.diag(-np.ones(99), -1)\n",
    "U = np.diag(-np.ones(99), 1)\n",
    "x = np.zeros(100)\n",
    "b = np.array([2] + 98*[1] + [2])\n",
    "count = 0\n",
    "while max(abs(np.ones(100) - x)) > 0.000001:\n",
    "    count += 1\n",
    "    x  = d*(b - np.matmul((L + U),x))\n",
    "print(count)\n",
    "print(x)"
   ]
  },
  {
   "cell_type": "code",
   "execution_count": 6,
   "metadata": {},
   "outputs": [],
   "source": [
    "# n = 100000\n",
    "d = 1/3\n",
    "L = np.diag(-np.ones(99999), -1)\n",
    "U = np.diag(-np.ones(99999), 1)\n",
    "x = np.zeros(100000)\n",
    "b = np.array([2] + 99998*[1] + [2])\n",
    "count = 0\n",
    "while max(abs(np.ones(100000) - x)) > 0.000001:\n",
    "    count += 1\n",
    "    x  = d*(b - np.matmul((L + U),x))\n",
    "print(count)\n",
    "print(x)\n",
    "# crashes because of a memory error"
   ]
  },
  {
   "cell_type": "markdown",
   "metadata": {},
   "source": [
    "### \\#3\n",
    "Do the same as above with Gauss-Seidel method. For the case of n = 100, 000, how did you deal with this large matrix?"
   ]
  },
  {
   "cell_type": "code",
   "execution_count": null,
   "metadata": {},
   "outputs": [],
   "source": [
    "# n = 100\n",
    "d = 1/3\n",
    "L = np.diag(-np.ones(99), -1)\n",
    "U = np.diag(-np.ones(99), 1)\n",
    "x = np.zeros(100)\n",
    "b = np.array([2] + 98*[1] + [2])\n",
    "count = 0\n"
   ]
  },
  {
   "cell_type": "markdown",
   "metadata": {},
   "source": [
    "### \\#4\n",
    "Do the same as above with SOR. For the case of n = 100, 000, how did you deal with this large matrix?"
   ]
  },
  {
   "cell_type": "code",
   "execution_count": null,
   "metadata": {},
   "outputs": [],
   "source": []
  }
 ],
 "metadata": {
  "kernelspec": {
   "display_name": "base",
   "language": "python",
   "name": "python3"
  },
  "language_info": {
   "codemirror_mode": {
    "name": "ipython",
    "version": 3
   },
   "file_extension": ".py",
   "mimetype": "text/x-python",
   "name": "python",
   "nbconvert_exporter": "python",
   "pygments_lexer": "ipython3",
   "version": "3.11.5"
  }
 },
 "nbformat": 4,
 "nbformat_minor": 2
}
