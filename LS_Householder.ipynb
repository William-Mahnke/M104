{
 "cells": [
  {
   "cell_type": "code",
   "execution_count": 1,
   "metadata": {},
   "outputs": [],
   "source": [
    "import numpy as np"
   ]
  },
  {
   "cell_type": "markdown",
   "metadata": {},
   "source": [
    "### **Example** (ill-conditioned least sqaure problem revisited)\n",
    "\n",
    "Let $x_0 = 2.0, x_1 = 2.2, \\dots, x_{10} = 4.0$ be equally spaced points in [2,4], and set $y_i = 1 + x_i + x_i^2 + \\dots + x_i^7$ for $0 \\leq i \\leq 10$. Find the least sqaures polynomial $P(x) = c_1 + c_2x + \\dots c_8x^7$ fitting the $(x_i,y_i)$. "
   ]
  },
  {
   "cell_type": "code",
   "execution_count": 2,
   "metadata": {},
   "outputs": [],
   "source": [
    "\"\"\"\n",
    "QR factorization via Householder reflectors. \n",
    "Computation efficiency version: computation improvement 2\n",
    "\"\"\"\n",
    "import numpy as np\n",
    "\n",
    "def qr(A):\n",
    "\n",
    "    m, n = A.shape\n",
    "    R = A.copy()\n",
    "    Q = np.eye(m)\n",
    "\n",
    "    for i in range(n):\n",
    "        k = m - i\n",
    "\n",
    "        x = R[i:, i].reshape(-1, 1)\n",
    "        w = np.zeros_like(x).reshape(-1, 1)\n",
    "        w[0] = - np.sign(x[0])*np.linalg.norm(x)\n",
    "\n",
    "        v = w - x\n",
    "        v_ = ((2./(v.T @ v))*v)\n",
    "        R[i:, i:] = R[i:, i:] - v_ @ (v.T @ R[i:, i:])\n",
    "\n",
    "        H = np.eye(k) - v_ @ v.reshape(1, -1)\n",
    "        Q[:, i:] = Q[:, i:] @ H\n",
    "\n",
    "    return Q, R "
   ]
  },
  {
   "cell_type": "code",
   "execution_count": null,
   "metadata": {},
   "outputs": [],
   "source": [
    "# problem parameters\n",
    "# Suggestions: To check sanity, set n = 2, 3, 4, \n",
    "#   Things get wild soon after n = 5\n",
    "n = 8       # number of unknowns\n",
    "\n",
    "# right-hand side vector\n",
    "x = np.linspace(2., 4., 11)\n",
    "c_true = np.ones(n)\n",
    "\n",
    "\n",
    "\n",
    "y = poly_eval(c_true, x) ## add own poly eval function (Holder's algorithm)\n",
    "\n",
    "\n",
    "\n",
    "# matrix\n",
    "pow = np.arange(n)\n",
    "# A = x[:, np.newaxis] ** pow       # broadcasting in effect\n",
    "A = x.reshape(-1, 1) ** pow         # equivalent to the previous line\n",
    "\n",
    "# Step 1: QR factorization\n",
    "Q, R = qr(A)\n",
    "\n",
    "# Step 2: Extract blocks\n",
    "R_ = R[:n, :n]\n",
    "d_ = (Q.T @ y)[:n]\n",
    "\n",
    "# Step 3: Solve the upper triangular system\n",
    "c = np.linalg.solve(R_, d_)"
   ]
  },
  {
   "cell_type": "code",
   "execution_count": null,
   "metadata": {},
   "outputs": [],
   "source": [
    "# with np.printoptions(precision=4, suppress=True):\n",
    "print(f\"{'c_true':<10}{': '}{c_true}\")\n",
    "print(f\"{'c':<10}{': '}{c}\")\n",
    "print(f\"{'x':<10}{': '}{x}\")\n",
    "print(f\"{'y':<10}{': '}{y}\")"
   ]
  },
  {
   "cell_type": "code",
   "execution_count": null,
   "metadata": {},
   "outputs": [],
   "source": [
    "# Step 1: QR factorization\n",
    "Q, R = np.linalg.qr(A)\n",
    "\n",
    "# Step 2: Extract blocks\n",
    "R_ = R[:n, :n]\n",
    "d_ = (Q.T @ y)[:n]\n",
    "\n",
    "# Step 3: Solve the upper triangular system\n",
    "c = np.linalg.solve(R_, d_)\n",
    "\n",
    "print(f\"{'c_true':<10}{': '}{c_true}\")\n",
    "print(f\"{'c':<10}{': '}{c}\")\n",
    "print(f\"{'x':<10}{': '}{x}\")\n",
    "print(f\"{'y':<10}{': '}{y}\")"
   ]
  }
 ],
 "metadata": {
  "kernelspec": {
   "display_name": "base",
   "language": "python",
   "name": "python3"
  },
  "language_info": {
   "codemirror_mode": {
    "name": "ipython",
    "version": 3
   },
   "file_extension": ".py",
   "mimetype": "text/x-python",
   "name": "python",
   "nbconvert_exporter": "python",
   "pygments_lexer": "ipython3",
   "version": "3.11.5"
  }
 },
 "nbformat": 4,
 "nbformat_minor": 2
}
