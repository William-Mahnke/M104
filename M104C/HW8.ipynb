{
 "cells": [
  {
   "cell_type": "code",
   "execution_count": 23,
   "metadata": {},
   "outputs": [],
   "source": [
    "import numpy as np\n",
    "import matplotlib.pyplot as plt\n",
    "from DFT import *"
   ]
  },
  {
   "cell_type": "markdown",
   "metadata": {},
   "source": [
    "## HW8\n",
    "### \\#3\n",
    "\n",
    "Write a code that implements trigonometric least square. You may use fft package (`numpy.fft.fft`, `numpy.fft.ifft`, `numpy.real`, `numpy.imag`) offered by NumPy appropriately.\n",
    "\n",
    "a) Data "
   ]
  },
  {
   "cell_type": "code",
   "execution_count": 24,
   "metadata": {},
   "outputs": [],
   "source": [
    "L = 3\n",
    "h = L / 16\n",
    "t = np.arange(16) * h\n",
    "x = np.array([2.5433, 1.8744, 1.695, 1.6759, \n",
    "              2.7873, 1.6847, 1.7283, 1.8506, \n",
    "              2.5267, 2.1502, 1.2686, 2.2924, \n",
    "              2.1646, 2.2637, 1.2958, 2.076])"
   ]
  },
  {
   "cell_type": "markdown",
   "metadata": {},
   "source": [
    "b) Plot the data"
   ]
  },
  {
   "cell_type": "code",
   "execution_count": 25,
   "metadata": {},
   "outputs": [
    {
     "data": {
      "image/png": "[encoded data removed]",
      "text/plain": [
       "<Figure size 900x300 with 1 Axes>"
      ]
     },
     "metadata": {},
     "output_type": "display_data"
    }
   ],
   "source": [
    "plt.figure(figsize=(9,3))\n",
    "plt.scatter(t, x)\n",
    "plt.xlabel('t')\n",
    "plt.ylabel('x')\n",
    "plt.show()"
   ]
  },
  {
   "cell_type": "markdown",
   "metadata": {},
   "source": [
    "c) Find a function belonging to $V = \\text{span}\\{f_k(t)\\}_{k=0}^m \\cup \\{g_l(t)\\}_{l = 1}^{m-1} \\subset C_{per}[0,L]$, the set of all continuous, periodic functions defined on [0,L], where $m = 5, f_k(t) = \\text{cos}\\frac{2\\pi kt}{L} (j = 0, 1, 2, \\dots, m)$ and $g_l(t) = \\text{sin}\\frac{2\\pi lt}{L} (l = 1,2, \\dots, m-1)$"
   ]
  },
  {
   "cell_type": "code",
   "execution_count": 26,
   "metadata": {},
   "outputs": [],
   "source": [
    "plt.rcParams['font.size'] = 16\n",
    "\n",
    "def lin_comb(fs, cs, x, plot=False, **kwarg):\n",
    "    \"\"\"\n",
    "    Return 1D array of the linear combination of functions evaluated at a grid domain.\n",
    "\n",
    "    Input:\n",
    "        fs (list): (stands for functions) ndarray compatible functions\n",
    "        cs (array-like): (stands for coefficients) coefficients of same length of fs\n",
    "        x: grid domain\n",
    "    Output:\n",
    "        cfs: (stands for c*f's) array of function values of the linear combination evaluated\n",
    "        at the grid domain.\n",
    "    Side-effect:\n",
    "        plot\n",
    "    \"\"\"\n",
    "    cfs = np.zeros((len(fs), len(x)))\n",
    "\n",
    "    for i, f in enumerate(fs):\n",
    "        cfs[i, :] = cs[i]*fs[i](x)\n",
    "    \n",
    "    cfs = np.sum(cfs, axis=0)\n",
    "    \n",
    "    if plot==True:\n",
    "        plt.figure(figsize=(9, 3))  \n",
    "        plt.plot(x, cfs, label=\"Linear combination\")\n",
    "        plt.show()\n",
    "\n",
    "    return cfs"
   ]
  },
  {
   "cell_type": "code",
   "execution_count": 28,
   "metadata": {},
   "outputs": [
    {
     "name": "stdout",
     "output_type": "stream",
     "text": [
      "[[ 7.96937500e+00+0.00000000e+00j]\n",
      " [-1.21568771e-02+1.65662258e-02j]\n",
      " [ 3.56237960e-02-5.71697238e-03j]\n",
      " [ 9.06789721e-03+5.22909099e-03j]\n",
      " [ 1.00855000e+00-1.95250000e-02j]\n",
      " [ 1.38877847e-03-2.45390183e-03j]\n",
      " [ 2.34262040e-02-3.59669724e-02j]\n",
      " [ 1.83002014e-02+6.31583233e-01j]\n",
      " [ 3.54250000e-02-9.60442182e-16j]\n",
      " [ 1.83002014e-02-6.31583233e-01j]\n",
      " [ 2.34262040e-02+3.59669724e-02j]\n",
      " [ 1.38877847e-03+2.45390183e-03j]\n",
      " [ 1.00855000e+00+1.95250000e-02j]\n",
      " [ 9.06789721e-03-5.22909099e-03j]\n",
      " [ 3.56237960e-02+5.71697238e-03j]\n",
      " [-1.21568771e-02-1.65662258e-02j]]\n"
     ]
    }
   ],
   "source": [
    "#y = np.fft.fft(x)\n",
    "y = DFT(x)"
   ]
  },
  {
   "cell_type": "markdown",
   "metadata": {},
   "source": [
    "Using `numpy.fft.fft` returned the wrong vector so I opted for using the DFT function we created when doing HW7."
   ]
  },
  {
   "cell_type": "code",
   "execution_count": 32,
   "metadata": {},
   "outputs": [
    {
     "data": {
      "image/png": "[encoded data removed]",
      "text/plain": [
       "<Figure size 900x300 with 1 Axes>"
      ]
     },
     "metadata": {},
     "output_type": "display_data"
    }
   ],
   "source": [
    "# split coef into real and imaginary parts for interpolating function\n",
    "a = np.real(y)\n",
    "b = -1. * np.imag(y) # flip sign for interpolating function\n",
    "\n",
    "# setting more parameters\n",
    "c, d = 0, L\n",
    "n = 16\n",
    "m = 5 # number of functions to subset for least squares soln\n",
    "\n",
    "# functions for interpolating function\n",
    "functions = [\n",
    "    lambda t: (1./np.sqrt(n)),\n",
    "    lambda t: (2./np.sqrt(n)) * np.cos(2.*np.pi*(t-c)/(d-c)),\n",
    "    lambda t: (2./np.sqrt(n)) * np.sin(2.*np.pi*(t-c)/(d-c)),\n",
    "    lambda t: (2./np.sqrt(n)) * np.cos(4.*np.pi*(t-c)/(d-c)),\n",
    "    lambda t: (2./np.sqrt(n)) * np.sin(4.*np.pi*(t-c)/(d-c)),\n",
    "    lambda t: (2./np.sqrt(n)) * np.cos(6.*np.pi*(t-c)/(d-c)),\n",
    "    lambda t: (2./np.sqrt(n)) * np.sin(6.*np.pi*(t-c)/(d-c)),\n",
    "    lambda t: (2./np.sqrt(n)) * np.cos(8.*np.pi*(t-c)/(d-c)), \n",
    "    lambda t: (2./np.sqrt(n)) * np.sin(8.*np.pi*(t-c)/(d-c)),\n",
    "    lambda t: (2./np.sqrt(n)) * np.cos(10.*np.pi*(t-c)/(d-c)), \n",
    "    lambda t: (2./np.sqrt(n)) * np.sin(10.*np.pi*(t-c)/(d-c)),\n",
    "    lambda t: (2./np.sqrt(n)) * np.cos(12.*np.pi*(t-c)/(d-c)), \n",
    "    lambda t: (2./np.sqrt(n)) * np.sin(12.*np.pi*(t-c)/(d-c)),\n",
    "    lambda t: (2./np.sqrt(n)) * np.cos(14.*np.pi*(t-c)/(d-c)), \n",
    "    lambda t: (2./np.sqrt(n)) * np.sin(14.*np.pi*(t-c)/(d-c)),\n",
    "    lambda t: (1./np.sqrt(n)) * np.cos(16.*np.pi*(t-c)/(d-c))\n",
    "]\n",
    "\n",
    "# extract coefficents using a and b (manually flip sign for b coefficients)\n",
    "coef = [a[0],a[1],b[1],a[2],b[2],a[3],b[3],a[4],\n",
    "        b[4],a[5],b[5],a[6],b[6],a[7],b[7],a[8]]\n",
    "\n",
    "# fitting and plotting\n",
    "p = 100\n",
    "tt = np.linspace(c, d, p)\n",
    "\n",
    "cfs = lin_comb(functions[:m], coef[:m], tt)\n",
    "\n",
    "plt.figure(figsize=(9, 3))\n",
    "plt.scatter(t, x)\n",
    "plt.plot(tt, cfs)\n",
    "plt.show()"
   ]
  }
 ],
 "metadata": {
  "kernelspec": {
   "display_name": "base",
   "language": "python",
   "name": "python3"
  },
  "language_info": {
   "codemirror_mode": {
    "name": "ipython",
    "version": 3
   },
   "file_extension": ".py",
   "mimetype": "text/x-python",
   "name": "python",
   "nbconvert_exporter": "python",
   "pygments_lexer": "ipython3",
   "version": "3.11.5"
  }
 },
 "nbformat": 4,
 "nbformat_minor": 2
}
