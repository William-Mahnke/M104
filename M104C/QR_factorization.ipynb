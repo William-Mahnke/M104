{
 "cells": [
  {
   "cell_type": "markdown",
   "metadata": {},
   "source": [
    "### Example (Gram-Schmidt via manual QR) \n",
    "source: Professor Park's notes $\\\\$\n",
    "Find the **reduced** QR factorization of the following matrix on computers. Use the result to five the answers to a mathematical question: Give an orthogonal system (not necessarily of unit length) of vectors that spans the same space as $\\text{span}{(1,2,2),(-4,3,2)}$"
   ]
  },
  {
   "cell_type": "code",
   "execution_count": 1,
   "metadata": {},
   "outputs": [],
   "source": [
    "import numpy as np\n",
    "import matplotlib.pyplot as plt"
   ]
  },
  {
   "cell_type": "code",
   "execution_count": 4,
   "metadata": {},
   "outputs": [],
   "source": [
    "def qr_red_GS(A):\n",
    "    '''\n",
    "    Returns the reduced QR factorization of a matrix \n",
    "    using the Gram-Schmidt process\n",
    "\n",
    "    Input: \n",
    "    A - array, matrix to be factored\n",
    "    Outputs:\n",
    "    Q - array, orthogonal matrix\n",
    "    R - array, upper triangular matrix\n",
    "    '''\n",
    "    # get m, n via the dimensions of A\n",
    "    (m, n) = A.shape\n",
    "    if m < n: # need A to be a tall matrix in context of least squares\n",
    "        raise ValueError(\"m must be greater than n\")\n",
    "    \n",
    "    Q = np.zeros((m,n))\n",
    "    R = np.zeros((n,n))\n",
    "\n",
    "    for j in range(n):\n",
    "        y = A[:, j].copy()\n",
    "        for i in range(j):\n",
    "            R[i, j] = np.dot(Q[:, i], y)\n",
    "            y = y - R[i, j] * Q[:, i]\n",
    "        R[j, j] = np.linalg.norm(y)\n",
    "        Q[:, j] = y / R[j, j]\n",
    "\n",
    "    return Q, R"
   ]
  },
  {
   "cell_type": "code",
   "execution_count": 5,
   "metadata": {},
   "outputs": [
    {
     "name": "stdout",
     "output_type": "stream",
     "text": [
      "A = QR? ---> True\n",
      "A\n",
      " [[ 1. -4.]\n",
      " [ 2.  3.]\n",
      " [ 2.  2.]]\n",
      "Q\n",
      " [[ 0.33333333 -0.93333333]\n",
      " [ 0.66666667  0.33333333]\n",
      " [ 0.66666667  0.13333333]]\n",
      "R\n",
      " [[3. 2.]\n",
      " [0. 5.]]\n",
      "QR\n",
      " [[ 1. -4.]\n",
      " [ 2.  3.]\n",
      " [ 2.  2.]]\n"
     ]
    }
   ],
   "source": [
    "\n",
    "\"\"\"Toggle comment to test different matrices\"\"\"\n",
    "A = np.array([[1,2,2],[-4,3,2]], dtype=np.float64)\n",
    "# A = np.array([[1,2,2, -1],[-4,3,2, 3], [1, 1, 1, 1]], dtype=np.float64)\n",
    "# A = np.array([[1,2,2, -1, 4],[-4,3,2, 3, -2], [1, 1, -1, 1,0]], dtype=np.float64)\n",
    "\n",
    "A = A.T\n",
    "\n",
    "Q, R = qr_red_GS(A)\n",
    "\n",
    "print(\"A = QR? --->\", np.allclose(A, Q @ R))\n",
    "print(\"A\\n\", A)\n",
    "print(\"Q\\n\", Q)\n",
    "print(\"R\\n\", R)\n",
    "print(\"QR\\n\", Q @ R)"
   ]
  },
  {
   "cell_type": "code",
   "execution_count": 6,
   "metadata": {},
   "outputs": [
    {
     "name": "stdout",
     "output_type": "stream",
     "text": [
      "Q^T Q\n",
      " [[1.00000000e+00 2.28212511e-17]\n",
      " [2.28212511e-17 1.00000000e+00]]\n"
     ]
    }
   ],
   "source": [
    "\"\"\"\n",
    "Inner loop must be `for i in range(j)` instead of `for i in range(j-1)`.\n",
    "\n",
    "Since j starts from 0, not 1, we shouldn't use j-1 (this leads to j-2 in effect)\n",
    "e.g., if j = 2 (3rd iteration) --> for i in range(j) <==> i in [0, 1] \n",
    "  (two inner iterations; correct b/c we are subtracting q1, q2 components) \n",
    "When `for i in range(j-1)` is used instead of `for i in range(j)`, \n",
    "it is missing one last iteration, and gives wrong result.\n",
    "In particular, Q is not orthogonal anymore, i.e., Q^T Q != I.\n",
    "\"\"\"\n",
    "print(\"Q^T Q\\n\", Q.T @ Q)"
   ]
  },
  {
   "cell_type": "markdown",
   "metadata": {},
   "source": [
    "### Example (Gram-Schmidt via manual QR revisited)\n",
    "\n",
    "Find the **full** QR factorization of the following matrix, whose columns are $(1,2,2),(-4,3,2)$\n",
    "\n",
    "1. Pad A with columns of the identity matrix"
   ]
  },
  {
   "cell_type": "code",
   "execution_count": 9,
   "metadata": {},
   "outputs": [],
   "source": [
    "def pad_matrix_eye(A):\n",
    "    '''\n",
    "    Pad the input matrix with columns of the identity matrix\n",
    "    Input:\n",
    "    A - array, matrix to be padded \n",
    "    '''\n",
    "    (m, n) = A.shape\n",
    "    if m < n:\n",
    "        TRANSPOSE = True\n",
    "        A = A.T\n",
    "        (m, n) = A.shape\n",
    "    else:\n",
    "        TRANSPOSE = False\n",
    "    \n",
    "    # k = m - n\n",
    "    #A_ = np.zeros((m, m))\n",
    "    A_ = np.eye(A.shape[0])\n",
    "    A_[:, :n] = A\n",
    "    # append A with standard basis vectors\n",
    "\n",
    "    if TRANSPOSE == True:\n",
    "        A = A_.T\n",
    "    \n",
    "    return A_"
   ]
  },
  {
   "cell_type": "code",
   "execution_count": 10,
   "metadata": {},
   "outputs": [
    {
     "name": "stdout",
     "output_type": "stream",
     "text": [
      "[[ 1. -4.  0.  0.]\n",
      " [ 2.  3.  0.  0.]\n",
      " [ 2.  2.  1.  0.]\n",
      " [-1.  3.  0.  1.]]\n"
     ]
    }
   ],
   "source": [
    "# pad_matrix_eye sanity check\n",
    "\n",
    "A = np.array([[1,2,2, -1],\n",
    "              [-4,3,2, 3],\n",
    "              #[1, 1, 1, 1]\n",
    "              ], dtype=np.float64)\n",
    "# A = A.T\n",
    "\n",
    "print(pad_matrix_eye(A))"
   ]
  },
  {
   "cell_type": "markdown",
   "metadata": {},
   "source": [
    "2. Full QR factorization"
   ]
  },
  {
   "cell_type": "code",
   "execution_count": 11,
   "metadata": {},
   "outputs": [],
   "source": [
    "def qr_GS(A):\n",
    "    \"\"\"\n",
    "    Return full QR factroization of a matrix using \n",
    "    Gram-Schmidt orthogonalization.\n",
    "\n",
    "    Input:\n",
    "        A (array): matrix to be factored (row-major assumed)\n",
    "    Output:\n",
    "        Q (array): orthogonal matrix\n",
    "        R (array): upper triangular matrix\n",
    "    Note:\n",
    "        Input matrix is padded with columns of identity matrix.\n",
    "    \"\"\"\n",
    "    (m, n) = A.shape\n",
    "    if m < n:\n",
    "        raise ValueError(\"The number of rows must be greater than or equal to the number of columns\")\n",
    "    \n",
    "    A_ = pad_matrix_eye(A)\n",
    "    R = np.zeros((m, n))\n",
    "\n",
    "    Q, R_ = qr_red_GS(A_)\n",
    "\n",
    "    # Construct matrix R: \n",
    "    #   R_ is computed to be m x m, but R take only n x n part (m >= n)\n",
    "    R[:n, :] = R_[:n, :n]\n",
    "\n",
    "    return Q, R"
   ]
  },
  {
   "cell_type": "code",
   "execution_count": 12,
   "metadata": {},
   "outputs": [
    {
     "name": "stdout",
     "output_type": "stream",
     "text": [
      "A = QR? ---> True\n",
      "Q^T Q = I? ---> True\n",
      "A\n",
      " [[ 1. -4.  1.]\n",
      " [ 2.  3.  1.]\n",
      " [ 2.  2.  1.]\n",
      " [-1.  3.  1.]]\n",
      "Q\n",
      " [[ 0.31622777 -0.70596229  0.6249268  -0.10527936]\n",
      " [ 0.63245553  0.39402546  0.01275361 -0.66676929]\n",
      " [ 0.63245553  0.22984819  0.06376804  0.73695553]\n",
      " [-0.31622777  0.54178501  0.7779701   0.03509312]]\n",
      "R\n",
      " [[3.16227766 0.9486833  1.26491106]\n",
      " [0.         6.09097693 0.45969637]\n",
      " [0.         0.         1.47941855]\n",
      " [0.         0.         0.        ]]\n",
      "QR\n",
      " [[ 1. -4.  1.]\n",
      " [ 2.  3.  1.]\n",
      " [ 2.  2.  1.]\n",
      " [-1.  3.  1.]]\n",
      "Q^T Q\n",
      " [[ 1.00000000e+00 -3.66535855e-17 -4.64608460e-17  9.64140833e-16]\n",
      " [-3.66535855e-17  1.00000000e+00  2.87738379e-17  1.58036019e-15]\n",
      " [-4.64608460e-17  2.87738379e-17  1.00000000e+00  2.44866380e-16]\n",
      " [ 9.64140833e-16  1.58036019e-15  2.44866380e-16  1.00000000e+00]]\n"
     ]
    }
   ],
   "source": [
    "# A = np.array([[1,2,2],[-4,3,2]], dtype=np.float64)\n",
    "A = np.array([[1,2,2, -1],[-4,3,2, 3], [1, 1, 1, 1]], dtype=np.float64)\n",
    "# A = np.array([[1,2,2, -1, 4],[-4,3,2, 3, -2], [1, 1, -1, 1,0]], dtype=np.float64)\n",
    "# d = 1e-10\n",
    "# A = np.array([[1,d,0,0],[-4,3,2, 3], [1, 1, 1, 1]], dtype=np.float64)\n",
    "\n",
    "A = A.T\n",
    "\n",
    "Q, R = qr_GS(A)\n",
    "\n",
    "print(\"A = QR? --->\", np.allclose(A, Q @ R))\n",
    "print(\"Q^T Q = I? --->\", np.allclose(Q.T @ Q, np.eye(A.shape[0])))\n",
    "print(\"A\\n\", A)\n",
    "print(\"Q\\n\", Q)\n",
    "print(\"R\\n\", R)\n",
    "print(\"QR\\n\", Q @ R)\n",
    "print(\"Q^T Q\\n\", Q.T @ Q)"
   ]
  }
 ],
 "metadata": {
  "kernelspec": {
   "display_name": "base",
   "language": "python",
   "name": "python3"
  },
  "language_info": {
   "codemirror_mode": {
    "name": "ipython",
    "version": 3
   },
   "file_extension": ".py",
   "mimetype": "text/x-python",
   "name": "python",
   "nbconvert_exporter": "python",
   "pygments_lexer": "ipython3",
   "version": "3.11.5"
  }
 },
 "nbformat": 4,
 "nbformat_minor": 2
}
