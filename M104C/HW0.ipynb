{
 "cells": [
  {
   "cell_type": "markdown",
   "metadata": {},
   "source": [
    "### \\#1\n",
    "Write a code that returns evaluation of polynomials $\\\\$\n",
    "(a) The function should use a vectorized code. That is, avoid unnecessary for loop. $\\\\$\n",
    "(b) The function should use Horner’s algorithm. $\\\\$\n",
    "(c) The function should be able to evaluate multiple polynomials of different degrees. $\\\\$\n",
    "$\\quad$ • It accepts 1D or 2D array a (coefficients of polynomials) and a 1D array x (a collection of x values at which polynomials are evaluated). $\\\\$\n",
    "$\\quad$ • Coefficients are in increasing order (i.e., the first entry is the constant term). $\\\\$\n",
    "$\\quad$ • If the coefficient array is 2D, then each row corresponds to a polynomial. $\\\\$\n",
    "$\\quad$ • It evaluates the polynomials at the same set of grid points x. In this case, the return value must be an array of the polynomial evaluations of the same length as the number of rows of a. $\\\\$\n",
    "(d) Conduct sanity checks."
   ]
  },
  {
   "cell_type": "code",
   "execution_count": 1,
   "metadata": {},
   "outputs": [],
   "source": [
    "import numpy as np\n",
    "\n",
    "def poly_eval(a, x, algorithm = 'Horner'):\n",
    "    '''\n",
    "    Evaluates a polynomial at the given values (x)\n",
    "\n",
    "    Inputs:\n",
    "        a: 1D array of coefficients of polynomial.\n",
    "            highest degree at front, intercept at the end \n",
    "        x: 1D array of values to evaluate polynomial at\n",
    "        algorithm: specifies which algorithm to use, with Horner's algorithm as the default\n",
    "    Output:\n",
    "        p: array of ploynomial evaluations (corresponding to values in x)\n",
    "    '''\n",
    "    # Horner's algorithm\n",
    "    if algorithm == 'Horner':\n",
    "       p = a[-1]*np.ones_like(x)\n",
    "       for i in range(len(a)-2, -1, -1):\n",
    "           p = x*p + a[i]\n",
    "\n",
    "    return p"
   ]
  },
  {
   "cell_type": "code",
   "execution_count": null,
   "metadata": {},
   "outputs": [],
   "source": [
    "# set coefficients and x values\n",
    "a = np.array([1,2,3])\n",
    "x = np.array(2)\n",
    "\n",
    "# evaluate using function and return\n",
    "eval = poly_eval(a, x)\n",
    "print(eval)"
   ]
  },
  {
   "cell_type": "code",
   "execution_count": null,
   "metadata": {},
   "outputs": [],
   "source": [
    "# Plotting the polynomial evaluations\n",
    "import matplotlib.pyplot as plt\n",
    "\n",
    "# Scatter plot of p at x\n",
    "plt.scatter(x, p, label='Horner algorithm')\n",
    "\n",
    "# Polynomial plot\n",
    "poly = np.poly1d(a[::-1])  # Create a polynomial object with coefficients in ascending order\n",
    "t = np.linspace(x.min(), x.max(), 100)\n",
    "plt.plot(t, poly(t), label='numpy package')\n",
    "\n",
    "# Set labels and legend\n",
    "plt.xlabel('x')\n",
    "plt.ylabel('Value')\n",
    "plt.legend()\n",
    "\n",
    "# Show the plot\n",
    "plt.show()"
   ]
  }
 ],
 "metadata": {
  "kernelspec": {
   "display_name": "base",
   "language": "python",
   "name": "python3"
  },
  "language_info": {
   "codemirror_mode": {
    "name": "ipython",
    "version": 3
   },
   "file_extension": ".py",
   "mimetype": "text/x-python",
   "name": "python",
   "nbconvert_exporter": "python",
   "pygments_lexer": "ipython3",
   "version": "3.11.5"
  }
 },
 "nbformat": 4,
 "nbformat_minor": 2
}
