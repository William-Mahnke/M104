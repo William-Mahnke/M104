{
 "cells": [
  {
   "cell_type": "code",
   "execution_count": 1,
   "metadata": {},
   "outputs": [],
   "source": [
    "import numpy as np\n",
    "import matplotlib.pyplot as plt"
   ]
  },
  {
   "cell_type": "markdown",
   "metadata": {},
   "source": [
    "### Ex from Park's notes\n",
    "Implement Power Iteration with a 4x4 symmertic matrix, A, and an asymmetric one, B.\n",
    "$\\\\ A = \\begin{bmatrix} 1 & 2 & 3 & 4 \\\\ 4 & 5 & 6 & 7 \\\\ 2 & 1 & 5 & 0 \\\\ 4 & 2 & 1 & 0 \\end{bmatrix}, B = \\begin{bmatrix} 1 & 2 & 2 & 4 \\\\ 2 & 5 & 6 & 2 \\\\ 2 & 6 & 5 & 0 \\\\ 4 & 2 & 0 & 0 \\end{bmatrix}$"
   ]
  },
  {
   "cell_type": "code",
   "execution_count": 2,
   "metadata": {},
   "outputs": [],
   "source": [
    "A = np.array([  [1 , 2 , 3 , 4],\n",
    "                [4 , 5 , 6 , 7],\n",
    "                [2 , 1 , 5 , 0],\n",
    "                [4 , 2 , 1 , 0]], dtype=np.float64)\n",
    "\n",
    "B = np.array([  [1 , 2 , 2 , 4],\n",
    "                [2 , 5 , 6 , 2],\n",
    "                [2 , 6 , 5 , 0],\n",
    "                [4 , 2 , 0 , 0]], dtype=np.float64)"
   ]
  },
  {
   "cell_type": "code",
   "execution_count": 4,
   "metadata": {},
   "outputs": [],
   "source": [
    "def power_iteration(A, x0 = None, max_iter = 20):\n",
    "    '''\n",
    "    Returns an approximation of the eigenvector associated with the dominant\n",
    "    eigenvalue of a matrix\n",
    "    Input:\n",
    "    A - matrix\n",
    "    x0 - initial guess, vector\n",
    "    max_iter - maximum iterations for the power iteration algorithm\n",
    "    Output:\n",
    "    u - associated dominant eigenvector (approximation)\n",
    "    l - dominant eigenvalue (approximation)\n",
    "    '''\n",
    "    if not x0:\n",
    "        x = np.zeros(A.shape[1])\n",
    "        x[0] = 1.\n",
    "    else:\n",
    "        x = x0\n",
    "    \n",
    "    for j in range(max_iter):\n",
    "        u = x / np.linalg.norm(x)\n",
    "        x = A @ u\n",
    "        l = np.dot(u,x)\n",
    "\n",
    "    u = x / np.linalg.norm(x)\n",
    "\n",
    "    return u, l"
   ]
  },
  {
   "cell_type": "code",
   "execution_count": 6,
   "metadata": {},
   "outputs": [
    {
     "name": "stdout",
     "output_type": "stream",
     "text": [
      "(array([0.3638539 , 0.84147511, 0.25701054, 0.30573773]), 11.105519741121565)\n",
      "(array([0.30769905, 0.67185537, 0.64017353, 0.21002263]), 12.258235581068476)\n"
     ]
    }
   ],
   "source": [
    "x1 = power_iteration(A)\n",
    "print(x1)\n",
    "x2 = power_iteration(B)\n",
    "print(x2)"
   ]
  },
  {
   "cell_type": "markdown",
   "metadata": {},
   "source": [
    "### Hessenberg Computation\n",
    "\n",
    "Basically similar to QR factorization via Householder reflector\n",
    "* Use the same reflection operator once x is determined\n",
    "* Slicing for matrix multiplication are apparent when writing out the procedure in a block form\n",
    "\n",
    "Differences of HB form compared to QR fact.\n",
    "* Only square matrix is allowed b/c of similarity to matrices\n",
    "* loop over the first m-2 columns\n",
    "* x (reflected vector) is sliced from one entry lower in row index than QR factorization\n",
    "    * k (length of reflected vector) is smaller than QR by 1\n",
    "* $\\hat{H}$ is also multiplied on the right after on the left\n",
    "* If $B = QAQ^T$ is desired, multiply Q by H on the left\n",
    "    * If $A = QBQ^T$ is wanted, multiply Q by H on the right"
   ]
  },
  {
   "cell_type": "code",
   "execution_count": 5,
   "metadata": {},
   "outputs": [],
   "source": [
    "def hessenberg1(A):\n",
    "    '''\n",
    "    Returns an upper Hessenberg form similar to the given matrix\n",
    "    Input: A - square matrix\n",
    "    Outputs: B, Q - Hessenberg matrix and an orthogonal matrix that\n",
    "    satisfies B = Q A Q^T\n",
    "    '''\n",
    "    m, n = A.shape\n",
    "    assert m == n\n",
    "    B = A.copy()\n",
    "    Q = np.eye(m)\n",
    "\n",
    "    for i in range(m-2):\n",
    "        k = m - i - 1\n",
    "\n",
    "        x = B[(i+1):, i]\n",
    "        w = np.zeros_like(x)\n",
    "        w[0] = - np.sign(x[0]) * np.linalg.norm(x)\n",
    "\n",
    "        v = w - x\n",
    "        H = np.eye(k) - 2. * (np.outer(v, v)) / (np.dot(v,v))\n",
    "        B[(i+1):, :] = H @ B[(i+1):, :]\n",
    "        B[:, (i+1):] = B[:, (i+1):] @ H\n",
    "\n",
    "        # multiply by H on the left: e.g. Q = H_3 H_2 H_1\n",
    "        Q[(i+1):, :] = H @ Q[(i+1):, :]\n",
    "    \n",
    "    return B, Q"
   ]
  },
  {
   "cell_type": "code",
   "execution_count": null,
   "metadata": {},
   "outputs": [],
   "source": [
    "# From Park's notes, checking function\n",
    "m = 5\n",
    "A = np.random.rand(m,m)\n",
    "B, Q = hessenberg1(A)\n",
    "\n",
    "with np.printoptions(precision=2, suppress=True):\n",
    "    print(B)\n",
    "    print(f\"upper Hessenberg form? --> {np.allclose(np.tril(B, -2), np.zeros((m,m)))}\")\n",
    "    print(Q)\n",
    "    print(Q.T @ Q)\n",
    "    print(f\"Q orthogonal? --> {np.allclose(Q.T @ Q, np.eye(m))}\")\n",
    "    print(f\"B = QAQ^T? --> {np.allclose(B, Q @ A @ Q.T)}\")"
   ]
  },
  {
   "cell_type": "code",
   "execution_count": 7,
   "metadata": {},
   "outputs": [],
   "source": [
    "# We can make a better function for the HB form by\n",
    "# making the code more efficient\n",
    "\n",
    "def hessenberg(A):\n",
    "    '''\n",
    "    Returns an upper Hessenberg form similar to the given matrix\n",
    "    Input: A - square matrix\n",
    "    Outputs: B, Q - Hessenberg matrix and an orthogonal matrix that\n",
    "    satisfies B = Q A Q^T\n",
    "    '''\n",
    "    m, n = A.shape\n",
    "    assert m == n\n",
    "    B = A.copy()\n",
    "    Q = np.eye(m)\n",
    "\n",
    "    for i in range(m-2):\n",
    "        k = m - i - 1\n",
    "\n",
    "        x = B[(i+1):, i].reshape(-1,1)\n",
    "        w = np.zeros_like(x).reshape(-1,1)\n",
    "        w[0] = - np.sign(x[0]) * np.linalg.norm(x)\n",
    "\n",
    "        v = w - x\n",
    "        v_ = ((2./(v.T @ v))*v)\n",
    "        \n",
    "        B[(i+1):, :] = B[(i+1):, :] - v_ @ (v.T @ B[(i+1):, :])\n",
    "        B[:, (i+1):] = B[:, (i+1):] - (B[:, (i+1):] @ v_) @ v.T\n",
    "\n",
    "        # Multiply by H on the left: e.g. Q = H_3 H_2 H_1 \n",
    "        Q[(i+1):, :] = Q[(i+1):, :] - v_ @ (v.T @ Q[(i+1):, :])\n",
    "        \n",
    "    return B, Q"
   ]
  },
  {
   "cell_type": "markdown",
   "metadata": {},
   "source": [
    "#### Example\n",
    "\n",
    "Reduce the following (assymetric) matrix to upper HB form by means of unitary similarity transformas. And then carry out QR algorithm for 10 iterations.\n",
    "\n",
    "$A = \\begin{bmatrix} 1 & 2 & 3 & 4 \\\\ 4 & 5 & 6 & 7 \\\\ 2 & 1 & 5 & 0 \\\\ 4 & 2 & 1 & 0 \\end{bmatrix}$"
   ]
  },
  {
   "cell_type": "code",
   "execution_count": 8,
   "metadata": {},
   "outputs": [],
   "source": [
    "# Preliminary - unshifted QR algorithm\n",
    "from QR import *\n",
    "\n",
    "def qr_alg_unshift(A, max_iter=10):\n",
    "    \"\"\"\n",
    "    Return approximate Schur factorization using QR algorithm.\n",
    "\n",
    "    Input:\n",
    "        A (array): A square matrix\n",
    "    Output:\n",
    "        T (array): approximate Schur form of A\n",
    "        U (array): The unitary matrix involved in the similarity T=U^H*A*U\n",
    "    Note: \n",
    "        - When A is a real matrix, T is an approxiate real Schur form.\n",
    "        In this case, U is an orthogonal matrix.\n",
    "        - \n",
    "    \"\"\"\n",
    "    m = A.shape[0]\n",
    "    T = A.copy()\n",
    "    U = np.eye(m)\n",
    "    for _ in range(max_iter):\n",
    "        Q, R = qr(T)\n",
    "        T = R @ Q\n",
    "        U = U @ Q\n",
    "    \n",
    "    return T, U"
   ]
  },
  {
   "cell_type": "code",
   "execution_count": 9,
   "metadata": {},
   "outputs": [
    {
     "name": "stdout",
     "output_type": "stream",
     "text": [
      "[[ 1.      -4.89898 -0.      -0.     ]\n",
      " [-4.89898  5.       5.7735   0.     ]\n",
      " [-0.       5.7735   5.4     -2.12289]\n",
      " [-0.      -0.      -2.12289 -0.4    ]]\n",
      "[[12.25824 -0.       0.      -0.     ]\n",
      " [-0.      -3.95885  0.00003  0.     ]\n",
      " [-0.       0.00003  3.52016 -0.     ]\n",
      " [-0.      -0.      -0.      -0.81954]]\n",
      "True\n",
      "False\n"
     ]
    }
   ],
   "source": [
    "\"\"\"\n",
    "Symmetric case:\n",
    "    max_iter = 105\n",
    "Asymmetric case:\n",
    "    max_iter = 6\n",
    "\"\"\"\n",
    "\n",
    "# A = np.array([  [1 , 2 , 3 , 4],\n",
    "#                 [4 , 5 , 6 , 7],\n",
    "#                 [2 , 1 , 5 , 0],\n",
    "#                 [4 , 2 , 1 , 0]], dtype=np.float64)\n",
    "\n",
    "A = np.array([  [1 , 2 , 2 , 4],\n",
    "                [2 , 5 , 6 , 2],\n",
    "                [2 , 6 , 5 , 0],\n",
    "                [4 , 2 , 0 , 0]], dtype=np.float64)\n",
    "\n",
    "B, Q = hessenberg(A)\n",
    "T, U = qr_alg_unshift(B, max_iter=100)\n",
    "\n",
    "with np.printoptions(precision=5, suppress=True):\n",
    "    print(B)\n",
    "    print(T)\n",
    "    print(np.allclose(T, U.T @ B @ U))\n",
    "    print(np.allclose(B @ U, np.diag(T)*U))"
   ]
  }
 ],
 "metadata": {
  "kernelspec": {
   "display_name": "base",
   "language": "python",
   "name": "python3"
  },
  "language_info": {
   "codemirror_mode": {
    "name": "ipython",
    "version": 3
   },
   "file_extension": ".py",
   "mimetype": "text/x-python",
   "name": "python",
   "nbconvert_exporter": "python",
   "pygments_lexer": "ipython3",
   "version": "3.11.5"
  }
 },
 "nbformat": 4,
 "nbformat_minor": 2
}
