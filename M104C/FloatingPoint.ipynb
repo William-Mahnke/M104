{
 "cells": [
  {
   "cell_type": "markdown",
   "metadata": {},
   "source": [
    "* `ndarray.view(dtype)`: Shows reinterpretation of the array in the format of `dtype`. (Documentation)\n",
    "    * E.g., if `x = np.array(9.4)`, then `x.view(np.int64)` reinterpret the chunk of bit for 9.4, a 64-digit binary number, as an integer. In words, it says to NumPy \"View `x` as integer.\"\n",
    "* `numpy.binary_repr`: Return the binary representation of the input number as a string. (Documentation)\n",
    "    * If `width=64` is passed, the output consists of all 64 bits, including the first consecutive 0's.\n",
    "* `numpy.base_repr(x.view(np.int64), base=16)`: Return the hexadecimal representation of the input, in this case, `x.view(np.int64)`. (Documentation)"
   ]
  },
  {
   "cell_type": "code",
   "execution_count": null,
   "metadata": {},
   "outputs": [],
   "source": [
    "import numpy as np\n",
    "x = np.array(9.4)\n",
    "print(f\"{'Usual print of '              :>27}{x}{':'            :>13}{x}\")\n",
    "print(f\"{'Float interpretation of '     :>27}{x}{':'            :>13}{x.view(np.float64)}\")\n",
    "print(f\"{'Integer interpretation of '   :>27}{x}{' (base  2) :' :>13}{np.binary_repr(x.view(np.int64), width=64)}\")\n",
    "print(f\"{'Integer interpretation of '   :>27}{x}{' (base 10) :' :>13}{x.view(np.int64)}\")\n",
    "print(f\"{'Integer interpretation of '   :>27}{x}{' (base 16) :' :>13}{np.base_repr(x.view(np.int64), base=16)}\")"
   ]
  },
  {
   "cell_type": "markdown",
   "metadata": {},
   "source": []
  },
  {
   "cell_type": "code",
   "execution_count": null,
   "metadata": {},
   "outputs": [],
   "source": [
    "# smallest positive number: \n",
    "#   zero exponent, only one 1 in the last bit of the mantissa\n",
    "x = np.array(1, dtype=np.int64)\n",
    "y = x\n",
    "print(f\"{'Ex0   (bit): ':>13}{np.binary_repr(y, width=64)}\")\n",
    "print(f\"{'(float): '    :>13}{y.view(np.float64)}\")\n",
    "\n",
    "# flip the sign bit\n",
    "# 1 is at the first (sign) and the last bits (mantissa)\n",
    "y = x + np.left_shift(x, 63)\n",
    "print(f\"{'Ex1   (bit): ':>13}{np.binary_repr(y, width=64)}\")\n",
    "print(f\"{'(float): '    :>13}{y.view(np.float64)}\")\n",
    "\n",
    "# 0.1*2^(-1022) = 1.0*2^(-1023)\n",
    "# 1 is at the leftmost bit of the mantissa (0 exponent; subnormal)\n",
    "y = np.left_shift(x, 51)\n",
    "print(f\"{'Ex2   (bit): ':>13}{np.binary_repr(y, width=64)}\")\n",
    "print(f\"{'(float): '    :>13}{y.view(np.float64)}\")\n",
    "\n",
    "# 1.0*2^(-1022)\n",
    "# 1 is at the rightmost bit of the exponent (1 exponent; normalized)\n",
    "y = np.left_shift(x, 52)\n",
    "print(f\"{'Ex3   (bit): ':>13}{np.binary_repr(y, width=64)}\")\n",
    "print(f\"{'(float): '    :>13}{y.view(np.float64)}\")"
   ]
  },
  {
   "cell_type": "markdown",
   "metadata": {},
   "source": [
    "### Additioon of floating point numbers\n",
    "* Algorithm\n",
    "    * Given two numbers, line up the decimal places, add the two numbers, store result\n",
    "* Actual addition can be conducted in higher precision than 52 bits, but the result is rounded to 52 bits of mantissa"
   ]
  },
  {
   "cell_type": "code",
   "execution_count": null,
   "metadata": {},
   "outputs": [],
   "source": [
    "x = 1.0\n",
    "y = 2**(-53)\n",
    "z = 2**(-52)\n",
    "\n",
    "print(f\"{'x: ' :>5}{x}\")\n",
    "print(f\"{'y: ' :>5}{y}\")\n",
    "print(f\"{'z: ' :>5}{z}\")\n",
    "print(f\"{'x+y: ' :>5}{x+y}\")\n",
    "print(f\"{'x+z: ' :>5}{x+z}\")"
   ]
  },
  {
   "cell_type": "markdown",
   "metadata": {},
   "source": [
    "This method of addition can lead to roundings and truncations that give surprising results"
   ]
  },
  {
   "cell_type": "code",
   "execution_count": null,
   "metadata": {},
   "outputs": [],
   "source": [
    "x = 9.4\n",
    "y = x - 9.4\n",
    "z = x - 9.0\n",
    "z = z - 0.4\n",
    "\n",
    "print(f\"{'x: ' :>5}{x}\")\n",
    "print(f\"{'y: ' :>5}{y}\")\n",
    "print(f\"{'z: ' :>5}{z}\")"
   ]
  },
  {
   "cell_type": "markdown",
   "metadata": {},
   "source": [
    "Numbers smaller than $\\epsilon_{mach} (= 2^{-52})$ aren't negligible in the IEEE model. If they're representative in the model, computations are accurate as long as the result isn't added to a number of unit size (something relatively larger)"
   ]
  },
  {
   "cell_type": "code",
   "execution_count": null,
   "metadata": {},
   "outputs": [],
   "source": [
    "r = 1e-20 # << 2^(-52)=2.220446049250313e-16\n",
    "x = 9.4 * r\n",
    "y = x - (9.4 * r)\n",
    "z = x - (9.0 * r)\n",
    "z = z - (0.4 * r)\n",
    "\n",
    "print(f\"{'x: ' :>5}{x}\")\n",
    "print(f\"{'y: ' :>5}{y}\")\n",
    "# The computing error is not of order of machine epsilon,\n",
    "# but it is compatible with (x * e_mach)\n",
    "print(f\"{'z: ' :>5}{z}\")"
   ]
  },
  {
   "cell_type": "markdown",
   "metadata": {},
   "source": [
    "### Example from Textbook\n",
    "Suppose we compute $E_1$, which is equivalent to $E_2 \\\\$\n",
    "$E_1 = \\frac{1-\\text{cos}x}{sin^2x}$ and $E_2 = \\frac{1}{1+\\text{cos}x} \\\\$\n",
    "Implement a series of evaluations of $E_1, E_2$ at $x = 1/10^{j}$ with $j = 0,1,2,\\dots,14$. Which one is more credible and why?"
   ]
  },
  {
   "cell_type": "code",
   "execution_count": null,
   "metadata": {},
   "outputs": [],
   "source": [
    "import pandas as pd\n",
    "\n",
    "j = np.arange(15)\n",
    "x = 10.**(-j)\n",
    "E1 = lambda x: (1- np.cos(x))/(np.sin(x)*np.sin(x))\n",
    "E2 = lambda x: 1/(1+np.cos(x))\n",
    "\n",
    "df = pd.DataFrame({'x': x, 'E1': E1(x), 'E2': E2(x)})\n",
    "print(df)"
   ]
  }
 ],
 "metadata": {
  "kernelspec": {
   "display_name": "base",
   "language": "python",
   "name": "python3"
  },
  "language_info": {
   "name": "python",
   "version": "3.11.5"
  }
 },
 "nbformat": 4,
 "nbformat_minor": 2
}
