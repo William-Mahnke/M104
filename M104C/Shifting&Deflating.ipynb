{
 "cells": [
  {
   "cell_type": "code",
   "execution_count": 1,
   "metadata": {},
   "outputs": [],
   "source": [
    "import numpy as np\n",
    "import matplotlib.pyplot as plt"
   ]
  },
  {
   "cell_type": "markdown",
   "metadata": {},
   "source": [
    "## Shifting and Deflating"
   ]
  },
  {
   "cell_type": "markdown",
   "metadata": {},
   "source": [
    "**Example**: Carry out QR algorithm to the following matrix. Use all techniques - reduction to Hessenberg form, deflating, and shifting.\n",
    "\n",
    "$A = \\begin{bmatrix} 1 & 2 & 3 & 4 \\\\ 4 & 5 & 6 & 7 \\\\ 2 & 1 & 5 & 0 \\\\ 4 & 2 & 1 & 0 \\end{bmatrix}$"
   ]
  },
  {
   "cell_type": "code",
   "execution_count": null,
   "metadata": {},
   "outputs": [],
   "source": [
    "\n",
    "import numpy as np\n",
    "#from internallib import qr \n",
    "\n",
    "def qr_alg(A, max_iter=10, shift=False):\n",
    "    \"\"\"\n",
    "    Return approximate Schur factorization using QR algorithm.\n",
    "\n",
    "    Input:\n",
    "        A (array): A square matrix\n",
    "    Output:\n",
    "        T (array): approximate Schur form of A\n",
    "        U (array): The unitary matrix involved in the similarity T=U^H*A*U\n",
    "    Note: \n",
    "        - When A is a real matrix, T is an approxiate real Schur form.\n",
    "        In this case, U is an orthogonal matrix.\n",
    "        - \n",
    "    \"\"\"\n",
    "    m = A.shape[0]\n",
    "    T = A.copy()\n",
    "    U = np.eye(m)\n",
    "    for _ in range(max_iter):\n",
    "        \n",
    "        sI = T[-1,-1]*np.eye(T.shape[0]) if shift == True else None\n",
    "        \n",
    "        # TODO - add qr algorithm in\n",
    "        Q, R = qr(T) if shift==False else qr(T - sI)\n",
    "\n",
    "        T = R @ Q if shift==False else R @ Q + sI\n",
    "        \n",
    "        U = U @ Q\n",
    "    \n",
    "    return T, U\n"
   ]
  },
  {
   "cell_type": "code",
   "execution_count": null,
   "metadata": {},
   "outputs": [],
   "source": [
    "\n",
    "\"\"\"\n",
    "Suggested implementation\n",
    "1. Effect of only deflation\n",
    "    - shift=False\n",
    "    - max_iter = 10, 100, 1000\n",
    "2. Effect of shifting + deflation\n",
    "    - shift=True\n",
    "    - max_iter = 5\n",
    "\"\"\"\n",
    "\n",
    "A = np.array([  [1 , 2 , 3 , 4],\n",
    "                [4 , 5 , 6 , 7],\n",
    "                [2 , 1 , 5 , 0],\n",
    "                [4 , 2 , 1 , 0]], dtype=np.float64)\n",
    "\n",
    "m = A.shape[0]\n",
    "# TODO add hessenberg transformation function\n",
    "B, Q = hessen(A)\n",
    "eig = np.full(m, np.nan)\n",
    "\n",
    "shift = True\n",
    "max_iter = 5\n",
    "\n",
    "for i in range(m):\n",
    "    print(B.shape)\n",
    "    if B.shape[0] == 1:\n",
    "        eig[i] = B[-1, -1]\n",
    "        break\n",
    "\n",
    "    T, U = qr_alg(B, max_iter=max_iter, shift=shift)\n",
    "    with np.printoptions(precision=5, suppress=True):\n",
    "        print(T)\n",
    "    \n",
    "    if np.allclose(T[-1, :-1], 0):\n",
    "        eig[i] = T[-1, -1]\n",
    "        B = T[:-1, :-1]\n",
    "    else:\n",
    "        print(\"No deflation carried out: the last row not of the form: [0, 0, ..., r]\")\n",
    "    \n",
    "print(f\"eigenvlaues = [{eig}]\")"
   ]
  }
 ],
 "metadata": {
  "kernelspec": {
   "display_name": "base",
   "language": "python",
   "name": "python3"
  },
  "language_info": {
   "codemirror_mode": {
    "name": "ipython",
    "version": 3
   },
   "file_extension": ".py",
   "mimetype": "text/x-python",
   "name": "python",
   "nbconvert_exporter": "python",
   "pygments_lexer": "ipython3",
   "version": "3.11.5"
  }
 },
 "nbformat": 4,
 "nbformat_minor": 2
}
