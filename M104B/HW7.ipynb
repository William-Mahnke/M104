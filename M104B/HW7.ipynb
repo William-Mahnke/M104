{
 "cells": [
  {
   "cell_type": "code",
   "execution_count": 1,
   "metadata": {},
   "outputs": [],
   "source": [
    "import numpy as np\n",
    "import matplotlib.pyplot as plt"
   ]
  },
  {
   "cell_type": "markdown",
   "metadata": {},
   "source": [
    "## \\#2\n",
    "(a) Write a code that computes DFT of the vectors $u = [3/4, 1/4, −1/4, 1/4]$\n",
    "and $v = [1, 0, −1/2, 0, 1, 0, −1/2, 0]$. Do not use package for this problem. You will practice core knowledge via this problem. When you construct Fourier matrix, do it as efficient as possible using vectorized\n",
    "coding. In Python, 1j is the keyword for $\\sqrt{-1}$ in Python. \n",
    "\n",
    "(b) From the result of (a), verify the theorem that the DFT y of a real n-vector x satisfies \n",
    "    (i) y_0 is real\n",
    "    (ii) $y_{n−k} = \\bar{y_k}$ for $k = 1, \\dots , n−1$. \n",
    "    \n",
    "(c) Write a code (function) that computes the inverse DFT of the result of (a); this should consist of just several lines using special property of Fourier matrix. Also compare the result of IDFT of DFT of u or v with the original vector. For this HW, you will need to use numpy.real(y), if y is the DFT of u or v; because of rounding errors, the result is likely to be complex even though it must be real in theory."
   ]
  },
  {
   "cell_type": "code",
   "execution_count": 11,
   "metadata": {},
   "outputs": [],
   "source": [
    "#u = np.array([3/4, 1/4, -1/4, 1/4])\n",
    "#v = np.array([1,0,-1/2,0,1,0,-1/2,0])\n",
    "x = np.array([2,9,6,4,5,11,3,10,8,7,1])"
   ]
  },
  {
   "cell_type": "code",
   "execution_count": 4,
   "metadata": {},
   "outputs": [],
   "source": [
    "def DFT(x):\n",
    "    '''     \n",
    "    Computes the Discrete Fourier Transform (DFT) of a vector \n",
    "    Input: \n",
    "    x (1D-array) - original vector\n",
    "    Output:\n",
    "    y (1D-array) - DFT of x\n",
    "    '''\n",
    "    n = x.shape[0]\n",
    "    w = np.exp(-2.*np.pi*1j/n)\n",
    "\n",
    "    k = np.arange(n) # powers for DFT matrix\n",
    "    pow = k.reshape((-1,1)) * k.reshape((1,-1)) # matrix of powers\n",
    "\n",
    "    DFT_matrix = w**pow # creating DFT matrix\n",
    "    const = 1./np.sqrt(n) # constant for DFT matrix\n",
    "\n",
    "    y = const * DFT_matrix @ x.reshape((-1,1)) # computing y\n",
    "\n",
    "    return y"
   ]
  },
  {
   "cell_type": "code",
   "execution_count": 12,
   "metadata": {},
   "outputs": [],
   "source": [
    "#y1 = DFT(u)\n",
    "#y2 = DFT(v)\n",
    "y3 = DFT(x)"
   ]
  },
  {
   "cell_type": "code",
   "execution_count": 13,
   "metadata": {},
   "outputs": [
    {
     "name": "stdout",
     "output_type": "stream",
     "text": [
      "[[19.89974874+0.j        ]\n",
      " [-2.75902786+0.62373008j]\n",
      " [-1.27543164-2.49416736j]\n",
      " [-1.04347775-4.57743204j]\n",
      " [-1.47144841+1.14950114j]\n",
      " [-0.08386392-3.68996654j]\n",
      " [-0.08386392+3.68996654j]\n",
      " [-1.47144841-1.14950114j]\n",
      " [-1.04347775+4.57743204j]\n",
      " [-1.27543164+2.49416736j]\n",
      " [-2.75902786-0.62373008j]]\n"
     ]
    }
   ],
   "source": [
    "#print(y1)\n",
    "#print(y2)\n",
    "print(y3)"
   ]
  },
  {
   "cell_type": "markdown",
   "metadata": {},
   "source": [
    "(b) (i) While the imaginary components of the resulting vectors aren't exactly zero because of the representation, the results show that $y_0$ is real for both vectors (ii) the resulting vectors of `DFT(u)` and `DFT(v)` satisy $y_{n-k} = \\bar{y}_k $ for $k = 1, \\dots, n-1$"
   ]
  },
  {
   "cell_type": "code",
   "execution_count": 2,
   "metadata": {},
   "outputs": [],
   "source": [
    "def invDFT(y):\n",
    "    ''''\n",
    "    Computes in the inverse discrete fourier transform of a vector y\n",
    "    Input:\n",
    "    y (1D-array): vector for inverse DFT\n",
    "    Output:\n",
    "    x (1D-array): resulting vector\n",
    "    '''\n",
    "\n",
    "    n = y.shape[0]\n",
    "    w = np.exp(-2.*np.pi*1j/n)\n",
    "\n",
    "    k = np.arange(n)\n",
    "    pow = -1. * k.reshape((-1,1)) * k.reshape((1,-1))\n",
    "\n",
    "    iDFT_matrix = w**pow # creating DFT matrix\n",
    "    const = 1./np.sqrt(n) # constant for DFT matrix\n",
    "\n",
    "    x = const * iDFT_matrix @ y.reshape((-1,1))\n",
    "\n",
    "    return x    "
   ]
  },
  {
   "cell_type": "code",
   "execution_count": 14,
   "metadata": {},
   "outputs": [],
   "source": [
    "w = np.real(invDFT(y1))\n",
    "z = np.real(invDFT(y2))"
   ]
  },
  {
   "cell_type": "code",
   "execution_count": 15,
   "metadata": {},
   "outputs": [
    {
     "name": "stdout",
     "output_type": "stream",
     "text": [
      "[[ 0.75]\n",
      " [ 0.25]\n",
      " [-0.25]\n",
      " [ 0.25]]\n",
      "[[ 1.00000000e+00]\n",
      " [-1.92534397e-16]\n",
      " [-5.00000000e-01]\n",
      " [-1.10084718e-16]\n",
      " [ 1.00000000e+00]\n",
      " [ 7.03265232e-17]\n",
      " [-5.00000000e-01]\n",
      " [ 8.76055264e-16]]\n"
     ]
    }
   ],
   "source": [
    "print(w)\n",
    "print(z)"
   ]
  },
  {
   "cell_type": "markdown",
   "metadata": {},
   "source": [
    "(c) the resulting vectors for `invDFT(y1)` and `invDFT(y2)` match with u and v respecitively"
   ]
  }
 ],
 "metadata": {
  "kernelspec": {
   "display_name": "base",
   "language": "python",
   "name": "python3"
  },
  "language_info": {
   "codemirror_mode": {
    "name": "ipython",
    "version": 3
   },
   "file_extension": ".py",
   "mimetype": "text/x-python",
   "name": "python",
   "nbconvert_exporter": "python",
   "pygments_lexer": "ipython3",
   "version": "3.11.5"
  }
 },
 "nbformat": 4,
 "nbformat_minor": 2
}
