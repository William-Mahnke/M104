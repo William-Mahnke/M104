{
 "cells": [
  {
   "cell_type": "markdown",
   "metadata": {},
   "source": [
    "### #6\n",
    "Use Conjugate Gradient method to solve the following system.\n",
    "$\\begin{bmatrix} 3 & -1 & 0 & 0 & 0 & \\frac{1}{2} \\\\ -1 & 3 & -1 & 0 & \\frac{1}{2} \\\\ 0 & -1 & 3 & -1 & 0 & 0 \\\\ 0 & 0 & -1 & 3 & -1 & 0 \\\\ 0 & \\frac{1}{2} & 0 & -1 & 3 & -1 \\\\ \\frac{1}{2} & 0 & 0 & 0 & -1 & 3 \\end{bmatrix} \\begin{bmatrix} u_1 \\\\ u_2 \\\\ u_3 \\\\ u_4 \\\\ u_5 \\\\ u_6 \\end{bmatrix} = \\begin{bmatrix} \\frac{5}{2} \\\\ \\frac{3}{2} \\\\ 1 \\\\ 1 \\\\ \\frac{3}{2} \\\\ \\frac{5}{2} \\end{bmatrix}$ "
   ]
  },
  {
   "cell_type": "code",
   "execution_count": null,
   "metadata": {},
   "outputs": [],
   "source": [
    "import numpy as np\n",
    "\n",
    "def conj_grad(A, b, x0, tol = 1e-9,  max_iter = None):\n",
    "    '''\n",
    "    Performs the conjugate gradient method to solve a system\n",
    "    Inputs:\n",
    "    A - matrix that represents the system\n",
    "    b - resulting vector \n",
    "    x0 - initial guess for the solution\n",
    "    max_iter - max iterations to perform the method to prevent memory errors/long runtime\n",
    "    Outputs:\n",
    "    x - solution to the system (or approximation if max iterations is reached)\n",
    "    '''\n",
    "    if not max_iter:\n",
    "        n = A.shape[0]\n",
    "        max_iter = n\n",
    "    \n",
    "    # initialize\n",
    "    x = x0\n",
    "    r = b - A@x\n",
    "    d = r\n",
    "    \n",
    "    r_nrm = np.dot(r,r)\n",
    "\n",
    "    for i in range(1, max_iter + 1):\n",
    "        # making computations easier\n",
    "        Ad = A @ d\n",
    "\n",
    "        # iteration part 1\n",
    "        alpha = r_nrm / np.dot(d, Ad)\n",
    "        x = x + (alpha * d)\n",
    "        r_new = r - (alpha * Ad)\n",
    "\n",
    "        r_new_nrm = np.dot(r_new, r_new)\n",
    "\n",
    "        if np.sqrt(r_new_nrm) < tol:\n",
    "            break\n",
    "\n",
    "        # iteration part 2\n",
    "        beta = r_new_nrm/r_nrm\n",
    "        d = r_new + (beta * d)\n",
    "        r = r_new \n",
    "        r_nrm = r_new_nrm   \n",
    "\n",
    "    return [x, i]"
   ]
  },
  {
   "cell_type": "code",
   "execution_count": 66,
   "metadata": {},
   "outputs": [
    {
     "name": "stdout",
     "output_type": "stream",
     "text": [
      "[1. 1. 1. 1. 1. 1.]\n",
      "3\n"
     ]
    }
   ],
   "source": [
    "D = np.diag(np.array(6 * [6]))\n",
    "L = np.diag(np.array(5 * [-2]), -1)\n",
    "U = np.diag(np.array(5 * [-2]), 1)\n",
    "A = D + L + U\n",
    "(A[1][4], A[0][5], A[4][1], A[5][0]) = (1,1,1,1)\n",
    "A = A*0.5\n",
    "\n",
    "b = np.array([5/2, 3/2, 1, 1, 3/2, 5/2])\n",
    "x0 = np.array([0,0,0,0,0,0])\n",
    "\n",
    "[x, iter] = conj_grad(A, b, x0)\n",
    "\n",
    "print(x)\n",
    "print(iter)"
   ]
  }
 ],
 "metadata": {
  "kernelspec": {
   "display_name": "base",
   "language": "python",
   "name": "python3"
  },
  "language_info": {
   "codemirror_mode": {
    "name": "ipython",
    "version": 3
   },
   "file_extension": ".py",
   "mimetype": "text/x-python",
   "name": "python",
   "nbconvert_exporter": "python",
   "pygments_lexer": "ipython3",
   "version": "3.11.5"
  }
 },
 "nbformat": 4,
 "nbformat_minor": 2
}
