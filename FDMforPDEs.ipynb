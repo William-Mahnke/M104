{
 "cells": [
  {
   "cell_type": "code",
   "execution_count": 1,
   "metadata": {},
   "outputs": [],
   "source": [
    "import numpy as np\n",
    "import matplotlib.pyplot as plt\n",
    "plt.rcParams['font.size'] = 16\n",
    "\n",
    "def fw_FDM(w, par):\n",
    "    \"\"\"\n",
    "    Return the next time of the heat equation using forward difference method.\n",
    "    \n",
    "    Input:\n",
    "        w: (1D array) Temperature distribution at time t.\n",
    "        par: (dict) Parameter for the forward difference method.\n",
    "    Output:\n",
    "        w_new: (1D array) Temperature distribution at time t+1.\n",
    "    \"\"\"\n",
    "    s = par['D']*par['k']/(par['h']*par['h'])\n",
    "\n",
    "    w_new = np.zeros_like(w[1:-1])\n",
    "\n",
    "    # Main line of the forward difference method\n",
    "    w_new = w[1:-1] + s*(w[2:] - 2.*w[1:-1] + w[:-2])\n",
    "    \"\"\"\n",
    "    This line is equivalent to the following for loop, but much faster.\n",
    "    N = len(w)\n",
    "    for i in range(1, N+1):\n",
    "        w_new[i] = w[i] + s*(w[i-1] - 2*w[i] + w[i+1])\n",
    "    \"\"\"\n",
    "\n",
    "    return w_new"
   ]
  },
  {
   "cell_type": "code",
   "execution_count": 2,
   "metadata": {},
   "outputs": [],
   "source": [
    "def solve_heat_eq(ic, bc1, bc2, D, a, b, T, N, K, t0=0.):\n",
    "    \"\"\"\n",
    "    Return numerical solution of Heat equation using forward difference method.\n",
    "    \n",
    "    Input:\n",
    "        ic: (1D array) Initial temperature distribution.\n",
    "        bc1: (float or 1D array) Boundary condition at x=a. Constant boundary condition is assumed.\n",
    "        bc2: (float or 1D array) Boundary condition at x=b. Constant boundary condition is assumed.\n",
    "        D: (float) Diffusion coefficient.\n",
    "        a: (float) Left boundary.\n",
    "        b: (float) Right boundary.\n",
    "        T: (float) Final time.\n",
    "        N: (int) Number of spatial grid points.\n",
    "        K: (int) Number of time grid points.\n",
    "        t0: (float) Initial time. (default=0.)\n",
    "    Output:\n",
    "        w: (2D array) Numerical solution.\n",
    "    \"\"\"\n",
    "    w = np.zeros((N+2, K+1))\n",
    "    h = (b-a)/(N+1)\n",
    "    k = (T-t0)/K\n",
    "    par = {'D': D, 'h': h, 'k': k}\n",
    "\n",
    "    # Initial/boundary condition\n",
    "    w[:, 0] = ic\n",
    "    w[0, :] = bc1\n",
    "    w[-1, :] = bc2\n",
    "\n",
    "    # time marching\n",
    "    for j in range(K):\n",
    "        w[1:-1, j+1] = fw_FDM(w[:,j], par=par)\n",
    "\n",
    "    return w"
   ]
  },
  {
   "cell_type": "code",
   "execution_count": 3,
   "metadata": {},
   "outputs": [],
   "source": [
    "N = 30\n",
    "K = 10\n",
    "a = -1.\n",
    "b = 1.\n",
    "D = 1.\n",
    "\n",
    "# Try:  T = 0.05 or bigger to see stability issue, \n",
    "#       T = 0.03 for stable solution\n",
    "T = 0.05 \n",
    "x = np.linspace(a, b, N+2)\n",
    "t = np.linspace(0, T, K+1)"
   ]
  },
  {
   "cell_type": "markdown",
   "metadata": {},
   "source": [
    "### Sanity Check \n",
    "\n",
    "Compute the numerical solution to (insert system here)"
   ]
  },
  {
   "cell_type": "code",
   "execution_count": 4,
   "metadata": {},
   "outputs": [
    {
     "data": {
      "text/plain": [
       "'The above line is equivalent to the following for loop, but much faster.\\nfor j in range(K+1):\\n    u[:, j] = u_(x, t[j])\\n'"
      ]
     },
     "execution_count": 4,
     "metadata": {},
     "output_type": "execute_result"
    }
   ],
   "source": [
    "#%% Initial condition\n",
    "# set initial condition\n",
    "aa = 2.\n",
    "CC = 2*np.pi/(b-a)\n",
    "AA = aa*CC\n",
    "f = lambda m, x: np.sin(AA*x) \n",
    "m = 0.\n",
    "\n",
    "ic = f(m, x)\n",
    "bc1 = f(m, a)\n",
    "bc2 = f(m, b)\n",
    "\n",
    "# solve heat equation\n",
    "w = solve_heat_eq(ic, bc1, bc2, D, a, b, T, N, K)\n",
    "\n",
    "# true solution\n",
    "u_ = lambda x, t: np.exp(-AA*AA*t)*np.sin(AA*x)\n",
    "u = u_(x.reshape(-1, 1), t)\n",
    "\"\"\"The above line is equivalent to the following for loop, but much faster.\n",
    "for j in range(K+1):\n",
    "    u[:, j] = u_(x, t[j])\n",
    "\"\"\""
   ]
  },
  {
   "cell_type": "code",
   "execution_count": 5,
   "metadata": {},
   "outputs": [],
   "source": [
    "#%% Initial condition\n",
    "# set initial condition\n",
    "\n",
    "f = lambda m, x: np.exp(-x*x/(2.*m))/np.sqrt(4.*np.pi*m)\n",
    "\n",
    "m = 0.05\n",
    "ic = f(m, x)\n",
    "bc1 = f(m, a)\n",
    "bc2 = f(m, b)\n",
    "\n",
    "w = solve_heat_eq(ic, bc1, bc2, D, a, b, T, N, K)"
   ]
  },
  {
   "cell_type": "code",
   "execution_count": null,
   "metadata": {},
   "outputs": [],
   "source": [
    "#%% plot\n",
    "fig, ax = plt.subplots(1,1, figsize=(6.5, 6.5), subplot_kw={'projection':'3d'})\n",
    "\n",
    "for j in range(K+1):\n",
    "    ax.plot(x, t[j]*np.ones(N+2), w[:, j])\n",
    "\n",
    "# Change the angle of projection\n",
    "\n",
    "ax.set_xlabel('$x$')\n",
    "ax.set_ylabel('$t$')\n",
    "ax.view_init(elev=30, azim=45)\n",
    "\n",
    "plt.show()"
   ]
  }
 ],
 "metadata": {
  "kernelspec": {
   "display_name": "base",
   "language": "python",
   "name": "python3"
  },
  "language_info": {
   "codemirror_mode": {
    "name": "ipython",
    "version": 3
   },
   "file_extension": ".py",
   "mimetype": "text/x-python",
   "name": "python",
   "nbconvert_exporter": "python",
   "pygments_lexer": "ipython3",
   "version": "3.11.5"
  }
 },
 "nbformat": 4,
 "nbformat_minor": 2
}
