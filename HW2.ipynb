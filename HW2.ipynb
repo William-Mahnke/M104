{
 "cells": [
  {
   "cell_type": "markdown",
   "metadata": {},
   "source": [
    "### \\#1\n",
    "Solve the following system using computer.\n",
    "\n",
    "$\\begin{cases} 10^{-20}x_1 + x_2 = 1 \\\\ x_1 + 2x_2 = 4 \\end{cases}$\n",
    "\n",
    "(a) Write a function that conduct Gaussian elimination for 2-by-2 case.\n",
    "• Input: A (2-by-2 matrix), b (array of length 2).\n",
    "• Output: x (array of length 2) that satisfies Ax = b.\n",
    "(b) Create a NumPy array A = $\\begin{bmatrix} 10^{-20} & 1 \\\\ 1 & 2 \\end{bmatrix}$ and b = $\\begin{bmatrix} 1 \\\\ 4 \\end{bmatrix}$ and copy A and b using, say A1 = A.copy() and b1 = b.copy(). \\\n",
    "(c) Pass A and b to your function to compute the solution, say x = my gauss2D(A,b). \\\n",
    "(d) Pass A and b to library to compute the solution, say x1 = np.linalg.solve(A1, b1). \\\n",
    "(e) If you did everything “correctly,” you will see something weird. You can think about why. But we\n",
    "will get into that issue in class."
   ]
  },
  {
   "cell_type": "code",
   "execution_count": 28,
   "metadata": {},
   "outputs": [
    {
     "name": "stdout",
     "output_type": "stream",
     "text": [
      "[[0.]\n",
      " [1.]]\n"
     ]
    }
   ],
   "source": [
    "import numpy as np\n",
    "\n",
    "def Gaussian_Elim(matrix, vector_b):\n",
    "    A = matrix.copy()\n",
    "    b = vector_b.copy()\n",
    "    Ab = np.hstack((A,b))\n",
    "    \n",
    "    # Gaussian elimination\n",
    "    Ab[1,] = Ab[1,] - (Ab[1,0] / Ab[0,0]) * Ab[0,]\n",
    "\n",
    "    # Backwards substitution\n",
    "    x2 = Ab[1,2] / Ab[1,1]\n",
    "    x1 = (Ab[0,2] - Ab[0,1]*x2) / Ab[0,0]\n",
    "\n",
    "    return np.array([[x1],[x2]])\n",
    "\n",
    "A = np.array([[10**(-20), 1],\n",
    "               [1, 2]])\n",
    "b = np.array([1,4])\n",
    "b = b.reshape(-1,1)\n",
    "\n",
    "A1 = A.copy()\n",
    "b1 = b.copy()\n",
    "\n",
    "x = Gaussian_Elim(A1,b1)\n",
    "x1 = np.linalg.solve(A1,b1)\n",
    "print(x)\n",
    "print(x1) #result is actually incorrect, issue probably arises from memory issues involving 10^(-20)"
   ]
  },
  {
   "cell_type": "markdown",
   "metadata": {},
   "source": [
    "### \\#2\n",
    "\n",
    "Write code to find the relative forward and backward errors and error magnification factor for one of the following\n",
    "approximate solutions (a) [-10, 6] (b) [-100, 52] (c) [-600, 301] (d) [-599, 301] of the system: \n",
    "\n",
    "$\\begin{cases} x_1 + 2x_2 = 3 \\\\ 2x_1 + 4.01x_2 = 6.01 \\end{cases}$"
   ]
  },
  {
   "cell_type": "code",
   "execution_count": 12,
   "metadata": {},
   "outputs": [
    {
     "name": "stdout",
     "output_type": "stream",
     "text": [
      "Rel. Fwd. Error: 11.0, Rel. Bwd. Error: 4.327787021630615, Error Magnification Factor: 2.5417147251057286\n"
     ]
    }
   ],
   "source": [
    "import numpy as np\n",
    "\n",
    "x = np.array([1,1])\n",
    "b = np.array([3,6.01])\n",
    "tilde = np.array([-10,6])\n",
    "\n",
    "AA = np.array([[1, 2],\n",
    "               [2, 4.01]])\n",
    "b = b.reshape(-1,1)\n",
    "#np.hstack((AA,b)) putting AA and b  together\n",
    "\n",
    "def infinity_norm(s):\n",
    "    return np.max(np.absolute(s))\n",
    "\n",
    "def analytics(system, solution, result, estimate):\n",
    "    fwd_error = infinity_norm(solution - estimate)\n",
    "    bwd_error = infinity_norm(result - system*estimate)\n",
    "\n",
    "    rel_fwd_err = fwd_error / infinity_norm(solution)\n",
    "    rel_bwd_err = bwd_error / infinity_norm(result)\n",
    "\n",
    "    err_mag_factor = rel_fwd_err / rel_bwd_err\n",
    "\n",
    "    return f\"Rel. Fwd. Error: {rel_fwd_err}, Rel. Bwd. Error: {rel_bwd_err}, Error Magnification Factor: {err_mag_factor}\"\n",
    "\n",
    "print(analytics(AA,x,b,tilde))"
   ]
  },
  {
   "cell_type": "markdown",
   "metadata": {},
   "source": [
    "### \\#8\n",
    "\n",
    "Solve the system using computer in double precision (this is the default in NumPy):\n",
    "\n",
    "$\\begin{bmatrix} 811802 & 810901 \\\\ 810901 & 810001 \\end{bmatrix} \\begin{bmatrix} x_1 \\\\ x_2 \\end{bmatrix} = \\begin{bmatrix} 901 \\\\ 900 \\end{bmatrix}$"
   ]
  },
  {
   "cell_type": "code",
   "execution_count": 29,
   "metadata": {},
   "outputs": [
    {
     "name": "stdout",
     "output_type": "stream",
     "text": [
      "[[nan]\n",
      " [nan]]\n",
      "[[ 0.99993547]\n",
      " [-0.9999354 ]]\n"
     ]
    },
    {
     "name": "stderr",
     "output_type": "stream",
     "text": [
      "/var/folders/yr/2pln9r_90574qjgzrqbwvrsr0000gn/T/ipykernel_53816/1173983892.py:12: RuntimeWarning: invalid value encountered in scalar divide\n",
      "  x2 = Ab[1,2] / Ab[1,1]\n"
     ]
    }
   ],
   "source": [
    "A = np.array([[811802,810901],[810901,810001]])\n",
    "b = np.array([[901],[900]])\n",
    "\n",
    "A1 = A.copy()\n",
    "b1 = b.copy()\n",
    "\n",
    "x = Gaussian_Elim(A1,b1)\n",
    "x1 = np.linalg.solve(A1,b1)\n",
    "\n",
    "print(x)\n",
    "print(x1)"
   ]
  }
 ],
 "metadata": {
  "kernelspec": {
   "display_name": "base",
   "language": "python",
   "name": "python3"
  },
  "language_info": {
   "codemirror_mode": {
    "name": "ipython",
    "version": 3
   },
   "file_extension": ".py",
   "mimetype": "text/x-python",
   "name": "python",
   "nbconvert_exporter": "python",
   "pygments_lexer": "ipython3",
   "version": "3.11.5"
  }
 },
 "nbformat": 4,
 "nbformat_minor": 2
}
