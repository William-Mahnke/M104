{
 "cells": [
  {
   "cell_type": "markdown",
   "metadata": {},
   "source": [
    "### \\#7\n",
    "Use Multivariate Newton’s Method to find the two points in common of the three given\n",
    "spheres in three-dimensional space. (a) Each sphere has radius 1, with centers (1, 1, 0), (1, 0, 1), and\n",
    "(0, 1, 1). (Ans. (1, 1, 1) and (1/3, 1/3, 1/3)) (b) Each sphere has radius 5 , with centers (1, −2, 0), (−2, 2, −1),\n",
    "and (4, −2, 3). When you present, please give a picture or drawing of what we are looking for."
   ]
  },
  {
   "cell_type": "code",
   "execution_count": 1,
   "metadata": {},
   "outputs": [],
   "source": [
    "import numpy as np\n",
    "\n",
    "def Newton(F, DF, x0, tol = 1e-8, max_iter = 100):\n",
    "    '''\n",
    "    Inputs:\n",
    "    F - the function\n",
    "    DF - the Jacobian matrix of F\n",
    "    x0 - initial guess\n",
    "    tol = tolerance level to cause loop to stop before max_iter\n",
    "    max_iter = maximum number of iterations allowed\n",
    "    Output:\n",
    "    x - approx solution to F(x) = 0\n",
    "    iter - number of iterations\n",
    "    '''\n",
    "    # for each use, F and DF will have to be define in their own functions\n",
    "\n",
    "    x = x0.reshape(-1, 1)\n",
    "    for i in range(max_iter):\n",
    "        g = DF(x)\n",
    "        h = -F(x)\n",
    "        s = np.linalg.solve(g,h)\n",
    "        x = x + s\n",
    "        if np.abs(s) < tol:\n",
    "            break\n",
    "    return x\n"
   ]
  },
  {
   "cell_type": "markdown",
   "metadata": {},
   "source": [
    "### \\#8\n",
    "Apply Broyden I and II to find the sets of two intersection points the above problem (#7). Which one is better in this case? What is the reason for the conclusion?"
   ]
  },
  {
   "cell_type": "code",
   "execution_count": null,
   "metadata": {},
   "outputs": [],
   "source": [
    "import numpy as np\n",
    "\n",
    "def Broyden_I(F, x0, A0 = None, tol = 1e-6, max_iter = 100):\n",
    "    '''\n",
    "    Inputs:\n",
    "    F - function\n",
    "    x0 - initial guess for F(x) = 0\n",
    "    A - approximate Jacobian for F\n",
    "    tol - tolerance level\n",
    "    max_iter - maximum iterations allowed\n",
    "    '''\n",
    "    x = x0.reshape(-1,1)\n",
    "    A = A0 if A0 else np.eye(len(x0))\n",
    "    for i in range(max_iter):\n",
    "        Fx = F(x).reshape(-1,1)\n",
    "        x_new = x - np.linalg.inv(A) @ Fx\n",
    "        d = x_new - x\n",
    "        t = F(x_new).reshape(-1, 1) - Fx\n",
    "        A = A + ((t - A @ d) @ d.T)/(np.dot(d,d))\n",
    "        x = x_new\n",
    "        if np.linalg.norm(F(x)) < tol:\n",
    "            break\n",
    "    return x.reshape(-1,), i+1"
   ]
  },
  {
   "cell_type": "code",
   "execution_count": null,
   "metadata": {},
   "outputs": [],
   "source": [
    "import numpy as np\n",
    "def Broyden_II(F, x0, B0 = None, tol=1e-6, max_iter=100):\n",
    "    \"\"\"\n",
    "    Solve F(x) = 0 using Broyden's \"bad\" method.\n",
    "    \n",
    "    Shapes\n",
    "        Input: row vectors\n",
    "        Internal computation: convert to column vectors\n",
    "        Output: convert back to row vectors\n",
    "    \"\"\"\n",
    "    x = x0.reshape(-1, 1)\n",
    "    B = B0 if B0 else np.eye(len(x0))\n",
    "    for i in range(max_iter):\n",
    "        Fx = F(x).reshape(-1, 1)\n",
    "        x_new = x - B @ Fx\n",
    "        d = x_new - x\n",
    "        t = F(x_new).reshape(-1, 1) - Fx\n",
    "        B += ((d - B @ t) @ d.T @ B) / (d.T @ B @ t)\n",
    "        x = x_new\n",
    "        if np.linalg.norm(F(x)) < tol:\n",
    "            break\n",
    "    return x.reshape(-1,), i+1"
   ]
  }
 ],
 "metadata": {
  "kernelspec": {
   "display_name": "base",
   "language": "python",
   "name": "python3"
  },
  "language_info": {
   "codemirror_mode": {
    "name": "ipython",
    "version": 3
   },
   "file_extension": ".py",
   "mimetype": "text/x-python",
   "name": "python",
   "nbconvert_exporter": "python",
   "pygments_lexer": "ipython3",
   "version": "3.1.0"
  }
 },
 "nbformat": 4,
 "nbformat_minor": 2
}
