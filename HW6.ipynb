{
 "cells": [
  {
   "cell_type": "markdown",
   "metadata": {},
   "source": [
    "### \\#4\n",
    "\n",
    "Apply the Shooting Method to the nonlinear BVPs. Find a bracketing interval [s0, s1] and apply an\n",
    "equation solver to find and plot the solution. $\\\\$\n",
    "$\\begin{cases} y^{''} = sin(y^{'}) \\\\ y(0) = 1 \\\\ y(1) = -1 \\end{cases}$"
   ]
  },
  {
   "cell_type": "code",
   "execution_count": 3,
   "metadata": {},
   "outputs": [],
   "source": [
    "import numpy as np\n",
    "\n",
    "# Secant method for root finding part of the problem\n",
    "def secant(f, ini1, ini2, tol=1e-8, max_iter = 100):\n",
    "    x1 = ini1\n",
    "    x2 = ini2\n",
    "    f1 = f(x1)\n",
    "    for i in range(max_iter):\n",
    "        f2 = f(x2)\n",
    "        x_temp = x2\n",
    "        x2 = x2 - f(x2)*(x2 - x1)/(f2-f1)\n",
    "\n",
    "        # update history\n",
    "        x1 = x_temp\n",
    "        f1 = f2\n",
    "        if np.abs(x2-x1) < tol:\n",
    "            break\n",
    "    return x2, i + 1\n",
    "\n",
    "# Runga-Kutta method for root finding part of the problem\n",
    "def RK4(F, x0, t0, T, K):\n",
    "    dd= x0.size\n",
    "    tgrid = np.linspace(t0, T, K+1)\n",
    "    xx = np.zeros((K+1,dd))\n",
    "    xx[0] = x0\n",
    "\n",
    "    for k in range(K):\n",
    "        tau = tgrid[k+1] - tgrid[k]\n",
    "        x = xx[k]\n",
    "        t = tgrid[k]\n",
    "\n",
    "        k1 = F(t,x)\n",
    "        k2 = F(t, x + tau/2*k1)\n",
    "        k3 = F(t, x + tau/2*k2)\n",
    "        k4 = F(t, x + tau*k3)\n",
    "        xx[k+1] = x + tau/6*(k1 + 2*k2 + 2*k3 + k4)\n",
    "    return xx, tgrid"
   ]
  },
  {
   "cell_type": "code",
   "execution_count": 4,
   "metadata": {},
   "outputs": [
    {
     "name": "stdout",
     "output_type": "stream",
     "text": [
      "0.5295265888873552\n"
     ]
    }
   ],
   "source": [
    "import numpy as np\n",
    "def F_(s, bc1, bc2, slope, a, b, N):\n",
    "\n",
    "    x0 = np.array([bc1, s])\n",
    "\n",
    "    sol, tgrid = RK4(slope, x0, a, b, N)\n",
    "\n",
    "    return sol[-1, 0] - bc2\n",
    "\n",
    "# problem and numerical settings\n",
    "N = 100\n",
    "a, b = 0., 1.\n",
    "slope = lambda t, x: np.array([x[1], np.sin(x[1])])\n",
    "bc1 = 1.\n",
    "bc2 = -1.\n",
    "\n",
    "# simplified function for root finding\n",
    "F = lambda s: F_(s, bc1=bc1, bc2=bc2, slope=slope, a=a, b=b, N=N)"
   ]
  },
  {
   "cell_type": "code",
   "execution_count": 5,
   "metadata": {},
   "outputs": [
    {
     "name": "stdout",
     "output_type": "stream",
     "text": [
      "-1.5308590132830266 7\n"
     ]
    }
   ],
   "source": [
    "# solve the main root finding problem\n",
    "secant_guess1 = -1.\n",
    "secant_guess2 = 0.\n",
    "s_s, iter = secant(F, secant_guess1, secant_guess2)\n",
    "\n",
    "print(s_s, iter)\n",
    "\n",
    "# compute the trajectory\n",
    "sol, tgrid = RK4(slope, np.array([bc1, s_s]), a, b, N)"
   ]
  },
  {
   "cell_type": "code",
   "execution_count": 6,
   "metadata": {},
   "outputs": [
    {
     "data": {
      "image/png": "[encoded data removed]",
      "text/plain": [
       "<Figure size 640x480 with 1 Axes>"
      ]
     },
     "metadata": {},
     "output_type": "display_data"
    }
   ],
   "source": [
    "import matplotlib.pyplot as plt\n",
    "\n",
    "# change the overal font size \n",
    "plt.rcParams.update({\"font.size\": 16})\n",
    "\n",
    "# create subplots for 3d plots\n",
    "fig, ax = plt.subplots()\n",
    "\n",
    "# plot the numerical and true solution\n",
    "ax.plot(tgrid, sol.T[0])\n",
    "plt.legend([\"Numerical\", \"True\"])\n",
    "plt.show()"
   ]
  },
  {
   "cell_type": "markdown",
   "metadata": {},
   "source": [
    "### \\#7\n",
    "\n",
    "(a) Use finite differences to approximate the solution y(t) to the following BVP for n = 9. Plot the\n",
    "approximate solution together with the exact solution $y = 2/t^2$     \n",
    "(b) Plot the approximation errors on the interval in a separate semilog plot for n = 9, 19, 39, 79, 159. $\\\\$\n",
    "$\\begin{cases} y'' = \\frac{3}{2}t^2y^3 \\\\ y(1) = 2 \\\\ y(2) = \\frac{1}{2} \\end{cases}$"
   ]
  },
  {
   "cell_type": "code",
   "execution_count": 47,
   "metadata": {},
   "outputs": [],
   "source": [
    "import numpy as np\n",
    "def F(w, n, h, a):\n",
    "    '''\n",
    "    Inputs: \n",
    "    w - vector in R^n\n",
    "    n - size of the vector \n",
    "    h - step size \n",
    "    ya - left boundary value\n",
    "    Output:\n",
    "    Fw - vector in R^n\n",
    "    '''\n",
    "    w = w.reshape(-1,1)\n",
    "    Fw = np.zeros(n+2).reshape(-1,1)\n",
    "    for i in range(n):\n",
    "        if i == 0:\n",
    "            Fw[i] = w[1] - 2*w[0] + 2 - (3/2)*((a + h*i)**2)*(w[0])**3\n",
    "        elif i == n-1:\n",
    "            Fw[i] = (1/2) - 2*w[-1] + w[-2] - (3/2)*((a + h*i)**2)*(w[-1])**3\n",
    "        else:\n",
    "            Fw[i] = w[i+1] - 2*w[i] + w[i-1] - (3/2)*((a + h*i)**2)*(w[i])**3\n",
    "    return Fw\n",
    "\n",
    "g = F"
   ]
  },
  {
   "cell_type": "code",
   "execution_count": 48,
   "metadata": {},
   "outputs": [],
   "source": [
    "def Broyden_II(F, x0, n, h, a, B0 = None, tol=1e-6, max_iter=100):\n",
    "    \"\"\"\n",
    "    Solve F(x) = 0 using Broyden's \"bad\" method.\n",
    "    \n",
    "    Shapes\n",
    "        Input: row vectors\n",
    "        Internal computation: convert to column vectors\n",
    "        Output: convert back to row vectors\n",
    "    \"\"\"\n",
    "    n = n\n",
    "    h = h\n",
    "    a = a\n",
    "    x = x0.reshape(-1, 1)\n",
    "    B = B0 if B0 else np.eye(len(x0))\n",
    "    for i in range(max_iter):\n",
    "        Fx = F(x, n, h, a).reshape(-1, 1)\n",
    "        x_new = x - B @ Fx\n",
    "        d = x_new - x\n",
    "        t = F(x_new, n, h, a).reshape(-1, 1) - Fx\n",
    "        B += ((d - B @ t) @ d.T @ B) / (d.T @ B @ t)\n",
    "        x = x_new\n",
    "        if np.linalg.norm(F(x, n, h, a)) < tol:\n",
    "            break\n",
    "    return x.reshape(-1,), i+1"
   ]
  },
  {
   "cell_type": "code",
   "execution_count": 49,
   "metadata": {},
   "outputs": [
    {
     "name": "stdout",
     "output_type": "stream",
     "text": [
      "[nan nan nan nan nan nan nan nan nan nan nan]\n"
     ]
    },
    {
     "name": "stderr",
     "output_type": "stream",
     "text": [
      "/var/folders/yr/2pln9r_90574qjgzrqbwvrsr0000gn/T/ipykernel_24799/274201654.py:20: RuntimeWarning: overflow encountered in power\n",
      "  Fw[i] = w[i+1] - 2*w[i] + w[i-1] - (3/2)*((a + h*i)**2)*(w[i])**3\n",
      "/var/folders/yr/2pln9r_90574qjgzrqbwvrsr0000gn/T/ipykernel_24799/3041269999.py:20: RuntimeWarning: invalid value encountered in matmul\n",
      "  B += ((d - B @ t) @ d.T @ B) / (d.T @ B @ t)\n"
     ]
    }
   ],
   "source": [
    "from scipy.linalg import toeplitz\n",
    "\n",
    "# defining y''\n",
    "#f = lambda t, y: (3/2)(t*t)(y*y*y)\n",
    "\n",
    "# define boundary conditions\n",
    "a = 1\n",
    "b = 2\n",
    "ya = 2\n",
    "yb = 1/2\n",
    "\n",
    "# grid resolution/spacing\n",
    "n = 9\n",
    "h = (b - a) / (n + 1)\n",
    "\n",
    "# grid domain\n",
    "t = np.linspace(a, b, n+2)\n",
    "\n",
    "# Initialize the solution array\n",
    "w = np.zeros(n+2)\n",
    "\n",
    "# Apply the boundary conditions\n",
    "w[0] = ya\n",
    "w[-1] = yb\n",
    "\n",
    "'''\n",
    "Since the Jacobian for F would be extremely difficult to obtain, we'll use the Broyden 2 method using\n",
    "the identity matrix as our B0\n",
    "'''\n",
    "x0 = np.zeros(n+2)\n",
    "\n",
    "sol, iter = Broyden_II(g, x0, n, h, a)\n",
    "print(sol)"
   ]
  },
  {
   "cell_type": "code",
   "execution_count": 45,
   "metadata": {},
   "outputs": [
    {
     "ename": "ValueError",
     "evalue": "x and y must have same first dimension, but have shapes (11,) and (9,)",
     "output_type": "error",
     "traceback": [
      "\u001b[0;31m---------------------------------------------------------------------------\u001b[0m",
      "\u001b[0;31mValueError\u001b[0m                                Traceback (most recent call last)",
      "Cell \u001b[0;32mIn[45], line 10\u001b[0m\n\u001b[1;32m      7\u001b[0m fig, ax \u001b[38;5;241m=\u001b[39m plt\u001b[38;5;241m.\u001b[39msubplots()\n\u001b[1;32m      9\u001b[0m \u001b[38;5;66;03m# plot the numerical and true solution\u001b[39;00m\n\u001b[0;32m---> 10\u001b[0m ax\u001b[38;5;241m.\u001b[39mplot(t, sol, label\u001b[38;5;241m=\u001b[39m\u001b[38;5;124m\"\u001b[39m\u001b[38;5;124mFDM\u001b[39m\u001b[38;5;124m\"\u001b[39m)\n\u001b[1;32m     11\u001b[0m plt\u001b[38;5;241m.\u001b[39mlegend()\n\u001b[1;32m     12\u001b[0m plt\u001b[38;5;241m.\u001b[39mshow()\n",
      "File \u001b[0;32m~/anaconda3/anaconda3/lib/python3.11/site-packages/matplotlib/axes/_axes.py:1688\u001b[0m, in \u001b[0;36mAxes.plot\u001b[0;34m(self, scalex, scaley, data, *args, **kwargs)\u001b[0m\n\u001b[1;32m   1445\u001b[0m \u001b[38;5;250m\u001b[39m\u001b[38;5;124;03m\"\"\"\u001b[39;00m\n\u001b[1;32m   1446\u001b[0m \u001b[38;5;124;03mPlot y versus x as lines and/or markers.\u001b[39;00m\n\u001b[1;32m   1447\u001b[0m \n\u001b[0;32m   (...)\u001b[0m\n\u001b[1;32m   1685\u001b[0m \u001b[38;5;124;03m(``'green'``) or hex strings (``'#008000'``).\u001b[39;00m\n\u001b[1;32m   1686\u001b[0m \u001b[38;5;124;03m\"\"\"\u001b[39;00m\n\u001b[1;32m   1687\u001b[0m kwargs \u001b[38;5;241m=\u001b[39m cbook\u001b[38;5;241m.\u001b[39mnormalize_kwargs(kwargs, mlines\u001b[38;5;241m.\u001b[39mLine2D)\n\u001b[0;32m-> 1688\u001b[0m lines \u001b[38;5;241m=\u001b[39m [\u001b[38;5;241m*\u001b[39m\u001b[38;5;28mself\u001b[39m\u001b[38;5;241m.\u001b[39m_get_lines(\u001b[38;5;241m*\u001b[39margs, data\u001b[38;5;241m=\u001b[39mdata, \u001b[38;5;241m*\u001b[39m\u001b[38;5;241m*\u001b[39mkwargs)]\n\u001b[1;32m   1689\u001b[0m \u001b[38;5;28;01mfor\u001b[39;00m line \u001b[38;5;129;01min\u001b[39;00m lines:\n\u001b[1;32m   1690\u001b[0m     \u001b[38;5;28mself\u001b[39m\u001b[38;5;241m.\u001b[39madd_line(line)\n",
      "File \u001b[0;32m~/anaconda3/anaconda3/lib/python3.11/site-packages/matplotlib/axes/_base.py:311\u001b[0m, in \u001b[0;36m_process_plot_var_args.__call__\u001b[0;34m(self, data, *args, **kwargs)\u001b[0m\n\u001b[1;32m    309\u001b[0m     this \u001b[38;5;241m+\u001b[39m\u001b[38;5;241m=\u001b[39m args[\u001b[38;5;241m0\u001b[39m],\n\u001b[1;32m    310\u001b[0m     args \u001b[38;5;241m=\u001b[39m args[\u001b[38;5;241m1\u001b[39m:]\n\u001b[0;32m--> 311\u001b[0m \u001b[38;5;28;01myield from\u001b[39;00m \u001b[38;5;28mself\u001b[39m\u001b[38;5;241m.\u001b[39m_plot_args(\n\u001b[1;32m    312\u001b[0m     this, kwargs, ambiguous_fmt_datakey\u001b[38;5;241m=\u001b[39mambiguous_fmt_datakey)\n",
      "File \u001b[0;32m~/anaconda3/anaconda3/lib/python3.11/site-packages/matplotlib/axes/_base.py:504\u001b[0m, in \u001b[0;36m_process_plot_var_args._plot_args\u001b[0;34m(self, tup, kwargs, return_kwargs, ambiguous_fmt_datakey)\u001b[0m\n\u001b[1;32m    501\u001b[0m     \u001b[38;5;28mself\u001b[39m\u001b[38;5;241m.\u001b[39maxes\u001b[38;5;241m.\u001b[39myaxis\u001b[38;5;241m.\u001b[39mupdate_units(y)\n\u001b[1;32m    503\u001b[0m \u001b[38;5;28;01mif\u001b[39;00m x\u001b[38;5;241m.\u001b[39mshape[\u001b[38;5;241m0\u001b[39m] \u001b[38;5;241m!=\u001b[39m y\u001b[38;5;241m.\u001b[39mshape[\u001b[38;5;241m0\u001b[39m]:\n\u001b[0;32m--> 504\u001b[0m     \u001b[38;5;28;01mraise\u001b[39;00m \u001b[38;5;167;01mValueError\u001b[39;00m(\u001b[38;5;124mf\u001b[39m\u001b[38;5;124m\"\u001b[39m\u001b[38;5;124mx and y must have same first dimension, but \u001b[39m\u001b[38;5;124m\"\u001b[39m\n\u001b[1;32m    505\u001b[0m                      \u001b[38;5;124mf\u001b[39m\u001b[38;5;124m\"\u001b[39m\u001b[38;5;124mhave shapes \u001b[39m\u001b[38;5;132;01m{\u001b[39;00mx\u001b[38;5;241m.\u001b[39mshape\u001b[38;5;132;01m}\u001b[39;00m\u001b[38;5;124m and \u001b[39m\u001b[38;5;132;01m{\u001b[39;00my\u001b[38;5;241m.\u001b[39mshape\u001b[38;5;132;01m}\u001b[39;00m\u001b[38;5;124m\"\u001b[39m)\n\u001b[1;32m    506\u001b[0m \u001b[38;5;28;01mif\u001b[39;00m x\u001b[38;5;241m.\u001b[39mndim \u001b[38;5;241m>\u001b[39m \u001b[38;5;241m2\u001b[39m \u001b[38;5;129;01mor\u001b[39;00m y\u001b[38;5;241m.\u001b[39mndim \u001b[38;5;241m>\u001b[39m \u001b[38;5;241m2\u001b[39m:\n\u001b[1;32m    507\u001b[0m     \u001b[38;5;28;01mraise\u001b[39;00m \u001b[38;5;167;01mValueError\u001b[39;00m(\u001b[38;5;124mf\u001b[39m\u001b[38;5;124m\"\u001b[39m\u001b[38;5;124mx and y can be no greater than 2D, but have \u001b[39m\u001b[38;5;124m\"\u001b[39m\n\u001b[1;32m    508\u001b[0m                      \u001b[38;5;124mf\u001b[39m\u001b[38;5;124m\"\u001b[39m\u001b[38;5;124mshapes \u001b[39m\u001b[38;5;132;01m{\u001b[39;00mx\u001b[38;5;241m.\u001b[39mshape\u001b[38;5;132;01m}\u001b[39;00m\u001b[38;5;124m and \u001b[39m\u001b[38;5;132;01m{\u001b[39;00my\u001b[38;5;241m.\u001b[39mshape\u001b[38;5;132;01m}\u001b[39;00m\u001b[38;5;124m\"\u001b[39m)\n",
      "\u001b[0;31mValueError\u001b[0m: x and y must have same first dimension, but have shapes (11,) and (9,)"
     ]
    },
    {
     "data": {
      "image/png": "[encoded data removed]",
      "text/plain": [
       "<Figure size 640x480 with 1 Axes>"
      ]
     },
     "metadata": {},
     "output_type": "display_data"
    }
   ],
   "source": [
    "import matplotlib.pyplot as plt\n",
    "\n",
    "# change the overal font size \n",
    "plt.rcParams.update({\"font.size\": 16})\n",
    "\n",
    "# create subplots for 3d plots\n",
    "fig, ax = plt.subplots()\n",
    "\n",
    "# plot the numerical and true solution\n",
    "ax.plot(t, sol, label=\"FDM\")\n",
    "plt.legend()\n",
    "plt.show()"
   ]
  },
  {
   "cell_type": "markdown",
   "metadata": {},
   "source": [
    "### \\#8\n",
    "\n",
    "Apply the FDM to the nonlinear BVPs. Compare the numerical solution with the one obtained from\n",
    "shooting method (Problem 4) $\\\\$\n",
    "$\\begin{cases} y'' = \\text{sin} \\ y' \\\\ y(0) = 1 \\\\ y(1) = -1 \\end{cases}$"
   ]
  },
  {
   "cell_type": "code",
   "execution_count": null,
   "metadata": {},
   "outputs": [],
   "source": []
  }
 ],
 "metadata": {
  "kernelspec": {
   "display_name": "base",
   "language": "python",
   "name": "python3"
  },
  "language_info": {
   "codemirror_mode": {
    "name": "ipython",
    "version": 3
   },
   "file_extension": ".py",
   "mimetype": "text/x-python",
   "name": "python",
   "nbconvert_exporter": "python",
   "pygments_lexer": "ipython3",
   "version": "3.11.5"
  }
 },
 "nbformat": 4,
 "nbformat_minor": 2
}
