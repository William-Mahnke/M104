{
 "cells": [
  {
   "cell_type": "markdown",
   "metadata": {},
   "source": [
    "## \\#1\n",
    "\n",
    "a) Write a code for a polynomial evaluation. Use it to evaluate $P(x) = 1 + x + \\dots + x^{50}$ at $x = 1.00001$. Find the error of the computation by comparing with the equivalent expression $Q(x) = (x^{51}-1)/(x-1) \\\\$"
   ]
  },
  {
   "cell_type": "markdown",
   "metadata": {},
   "source": [
    "To minimize the number of additions and multiplications needed for the operation, we'll use Horner's algorithm to evaluate the polynomial. Since we're only evaluating at one point, we can simplify some of the code from the lecture notes."
   ]
  },
  {
   "cell_type": "code",
   "execution_count": 2,
   "metadata": {},
   "outputs": [],
   "source": [
    "import numpy as np\n",
    "\n",
    "def Horners(a, x):\n",
    "    '''\n",
    "    Evaluates a polynomial using Horner's algorithm\n",
    "    Inputs:\n",
    "    a - array of coefficients (highest degree at the front)\n",
    "    x - value to evaluate polynomial at\n",
    "    Output:\n",
    "    p - polynomial at x\n",
    "    '''\n",
    "    p = a[-1]\n",
    "    for i in range(len(a)-2, -1, -1):\n",
    "        p = x*p + a[i]\n",
    "    return p"
   ]
  },
  {
   "cell_type": "markdown",
   "metadata": {},
   "source": [
    "With the function for Honer's algorithm created, we can now evaluate $P(x)$ at $x = 1.00001$ and compare the calculation done by hand."
   ]
  },
  {
   "cell_type": "code",
   "execution_count": 5,
   "metadata": {},
   "outputs": [
    {
     "name": "stdout",
     "output_type": "stream",
     "text": [
      "Using Horner's algorithm, P(1.00001) = 50.01225196023039\n"
     ]
    }
   ],
   "source": [
    "a = np.array([1]*50)\n",
    "x = 1.00001\n",
    "\n",
    "eval = Horners(a,x)\n",
    "print(f'Using Horner\\'s algorithm, P(1.00001) = {eval}')"
   ]
  },
  {
   "cell_type": "markdown",
   "metadata": {},
   "source": [
    "Using desmos.com/calculator, $Q(1.00001) = 51.0127520831$. Thus the error of the computation is $51.0127520831 - 50.01225196023039 = 1.0005001228696102$"
   ]
  },
  {
   "cell_type": "markdown",
   "metadata": {},
   "source": [
    "## \\#3\n",
    "\n",
    "b) Write and test a subroutine that accepts a machine numbers x (i.e., powers of 2) and returns the value y = x − sin x using the devised formula.\n",
    "\n",
    "From part a (done on paper), our formula for y that avoids loss of significance is $y = x^3\\left(\\frac{1}{3!} - x^2\\left(\\frac{1}{5!}+ \\frac{x^2}{7!}\\right)\\right)$. Using this formula, we'll calculate y for small powers of 2, starting with $2^{-10}$ and proceeding with smaller values."
   ]
  },
  {
   "cell_type": "code",
   "execution_count": 24,
   "metadata": {},
   "outputs": [
    {
     "name": "stdout",
     "output_type": "stream",
     "text": [
      "y(2^-10) = 1.5522042170109273e-10\n",
      "y(2^-11) = 1.9402553406526002e-11\n",
      "y(2^-12) = 2.425319197499794e-12\n",
      "y(2^-13) = 3.031649003651006e-13\n",
      "y(2^-14) = 3.78956125668134e-14\n",
      "y(2^-15) = 4.73695157151342e-15\n",
      "y(2^-16) = 5.92118946459857e-16\n",
      "y(2^-17) = 7.401486830812836e-17\n",
      "y(2^-18) = 9.251858538536239e-18\n",
      "y(2^-19) = 1.156482317317661e-18\n",
      "y(2^-20) = 1.4456028966472734e-19\n",
      "y(2^-21) = 1.8070036208091535e-20\n",
      "y(2^-22) = 2.258754526011461e-21\n",
      "y(2^-23) = 2.8234431575143324e-22\n",
      "y(2^-24) = 3.5293039468929173e-23\n",
      "y(2^-25) = 4.411629933616147e-24\n",
      "y(2^-26) = 5.514537417020184e-25\n",
      "y(2^-27) = 6.89317177127523e-26\n",
      "y(2^-28) = 8.616464714094038e-27\n",
      "y(2^-29) = 1.0770580892617547e-27\n",
      "y(2^-30) = 1.3463226115771934e-28\n"
     ]
    }
   ],
   "source": [
    "# create a lambda function for the formula derived in part a\n",
    "f = lambda x: x**3 * ((1/6) - x**2 * ((1/120) + x**2 * (1/5040)))\n",
    "\n",
    "# create array of powers of 2\n",
    "powers_of_two = np.power(2, np.linspace(-10, -30, num = 21))\n",
    "\n",
    "# calculate values of y\n",
    "y = f(powers_of_two)\n",
    "for i in range(len(y)):\n",
    "    print(f'y(2^{-i - 10}) = {y[i]}')"
   ]
  }
 ],
 "metadata": {
  "kernelspec": {
   "display_name": "base",
   "language": "python",
   "name": "python3"
  },
  "language_info": {
   "codemirror_mode": {
    "name": "ipython",
    "version": 3
   },
   "file_extension": ".py",
   "mimetype": "text/x-python",
   "name": "python",
   "nbconvert_exporter": "python",
   "pygments_lexer": "ipython3",
   "version": "3.11.5"
  }
 },
 "nbformat": 4,
 "nbformat_minor": 2
}
